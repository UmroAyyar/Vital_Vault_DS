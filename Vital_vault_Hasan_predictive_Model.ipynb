{
  "nbformat": 4,
  "nbformat_minor": 0,
  "metadata": {
    "colab": {
      "provenance": [],
      "gpuType": "T4"
    },
    "kernelspec": {
      "name": "python3",
      "display_name": "Python 3"
    },
    "language_info": {
      "name": "python"
    },
    "accelerator": "GPU"
  },
  "cells": [
    {
      "cell_type": "markdown",
      "source": [
        "Overview\n",
        "This project aims to analyze multi-source health data, including wearable metrics, digital logs, and healthcare records, to build a data-driven health insights model.\n",
        "\n",
        "https://www.kaggle.com/datasets/manideepreddy966/wearables-dataset/data"
      ],
      "metadata": {
        "id": "5MK03IZyG34o"
      }
    },
    {
      "cell_type": "markdown",
      "source": [
        "The task has 3 distincts features.\n",
        "\n",
        "1. use datasets available to train a Machine learning model"
      ],
      "metadata": {
        "id": "N-kbZszor82N"
      }
    },
    {
      "cell_type": "code",
      "execution_count": 25,
      "metadata": {
        "id": "ATweWBmxj4Q4"
      },
      "outputs": [],
      "source": [
        "import pandas as pd\n",
        "import numpy as np\n",
        "import matplotlib.pyplot as plt\n",
        "import seaborn as sns"
      ]
    },
    {
      "cell_type": "markdown",
      "source": [
        "data from user activity logs, digital logs and personal health logs"
      ],
      "metadata": {
        "id": "X2ZOxou2kysm"
      }
    },
    {
      "cell_type": "code",
      "source": [
        "wearable_activity = pd.read_csv('/content/activity_environment_data.csv')\n",
        "wearable_digital = pd.read_csv('/content/digital_interaction_data.csv')\n",
        "wearable_personal = pd.read_csv('/content/personal_health_data.csv')"
      ],
      "metadata": {
        "id": "kavo6TSuj_QR"
      },
      "execution_count": 26,
      "outputs": []
    },
    {
      "cell_type": "markdown",
      "source": [
        "EDA"
      ],
      "metadata": {
        "id": "Xz5y4kGWGiHT"
      }
    },
    {
      "cell_type": "code",
      "source": [
        "# Display column names for each dataset\n",
        "print(\"Wearable Activity Columns:\", wearable_activity.columns)\n",
        "print(\"Wearable Digital Columns:\", wearable_digital.columns)\n",
        "print(\"Wearable Personal Columns:\", wearable_personal.columns)\n"
      ],
      "metadata": {
        "colab": {
          "base_uri": "https://localhost:8080/"
        },
        "id": "GrR6A4OWngc0",
        "outputId": "55e267cf-a119-463b-a874-2c4027aacc02"
      },
      "execution_count": 27,
      "outputs": [
        {
          "output_type": "stream",
          "name": "stdout",
          "text": [
            "Wearable Activity Columns: Index(['User_ID', 'Timestamp', 'Steps', 'Calories_Burned', 'Distance_Covered',\n",
            "       'Exercise_Type', 'Exercise_Duration', 'Exercise_Intensity',\n",
            "       'Ambient_Temperature', 'Battery_Level', 'Altitude', 'UV_Exposure'],\n",
            "      dtype='object')\n",
            "Wearable Digital Columns: Index(['User_ID', 'Timestamp', 'Notifications_Received', 'Screen_Time'], dtype='object')\n",
            "Wearable Personal Columns: Index(['User_ID', 'Age', 'Gender', 'Weight', 'Height', 'Medical_Conditions',\n",
            "       'Medication', 'Smoker', 'Alcohol_Consumption', 'Timestamp',\n",
            "       'Day_of_Week', 'Sleep_Duration', 'Deep_Sleep_Duration',\n",
            "       'REM_Sleep_Duration', 'Wakeups', 'Snoring', 'Heart_Rate',\n",
            "       'Blood_Oxygen_Level', 'ECG', 'Calories_Intake', 'Water_Intake',\n",
            "       'Stress_Level', 'Mood', 'Skin_Temperature', 'Body_Fat_Percentage',\n",
            "       'Muscle_Mass', 'Health_Score', 'Anomaly_Flag'],\n",
            "      dtype='object')\n"
          ]
        }
      ]
    },
    {
      "cell_type": "code",
      "source": [
        "# Check missing values in each dataset\n",
        "datasets = [wearable_activity, wearable_digital, wearable_personal]\n",
        "\n",
        "for i, df in enumerate(datasets):\n",
        "    print(f\"Dataset {i+1} Missing Values:\\n\", df.isnull().sum(), \"\\n\")\n"
      ],
      "metadata": {
        "colab": {
          "base_uri": "https://localhost:8080/"
        },
        "id": "p7XAaijFpmLt",
        "outputId": "d15ef77d-adfd-4396-9ad2-e2bb242ee870"
      },
      "execution_count": 28,
      "outputs": [
        {
          "output_type": "stream",
          "name": "stdout",
          "text": [
            "Dataset 1 Missing Values:\n",
            " User_ID                   0\n",
            "Timestamp                 0\n",
            "Steps                     0\n",
            "Calories_Burned           0\n",
            "Distance_Covered          0\n",
            "Exercise_Type          2601\n",
            "Exercise_Duration         0\n",
            "Exercise_Intensity     2601\n",
            "Ambient_Temperature       0\n",
            "Battery_Level             0\n",
            "Altitude                  0\n",
            "UV_Exposure               0\n",
            "dtype: int64 \n",
            "\n",
            "Dataset 2 Missing Values:\n",
            " User_ID                   0\n",
            "Timestamp                 0\n",
            "Notifications_Received    0\n",
            "Screen_Time               0\n",
            "dtype: int64 \n",
            "\n",
            "Dataset 3 Missing Values:\n",
            " User_ID                   0\n",
            "Age                       0\n",
            "Gender                    0\n",
            "Weight                    0\n",
            "Height                    0\n",
            "Medical_Conditions     3304\n",
            "Medication                0\n",
            "Smoker                    0\n",
            "Alcohol_Consumption    3360\n",
            "Timestamp                 0\n",
            "Day_of_Week               0\n",
            "Sleep_Duration            0\n",
            "Deep_Sleep_Duration       0\n",
            "REM_Sleep_Duration        0\n",
            "Wakeups                   0\n",
            "Snoring                   0\n",
            "Heart_Rate                0\n",
            "Blood_Oxygen_Level        0\n",
            "ECG                       0\n",
            "Calories_Intake           0\n",
            "Water_Intake              0\n",
            "Stress_Level              0\n",
            "Mood                      0\n",
            "Skin_Temperature          0\n",
            "Body_Fat_Percentage       0\n",
            "Muscle_Mass               0\n",
            "Health_Score              0\n",
            "Anomaly_Flag              0\n",
            "dtype: int64 \n",
            "\n"
          ]
        }
      ]
    },
    {
      "cell_type": "code",
      "source": [
        "# Merge wearable datasets\n",
        "# Merge wearable datasets on User_ID and Timestamp\n",
        "wearable_final = wearable_activity.merge(wearable_digital, on=['User_ID', 'Timestamp'], how='outer')\\\n",
        "                                 .merge(wearable_personal, on=['User_ID', 'Timestamp'], how='outer')\n",
        "\n",
        "# Save wearable data\n",
        "wearable_final.to_csv(\"/content/wearable_final.csv\", index=False)\n",
        "\n",
        "print(\"Wearable data saved successfully!\")\n",
        "\n"
      ],
      "metadata": {
        "colab": {
          "base_uri": "https://localhost:8080/"
        },
        "id": "MdukJJZlqrMU",
        "outputId": "014579b4-128a-4942-ee88-f6b0ef6259f8"
      },
      "execution_count": 29,
      "outputs": [
        {
          "output_type": "stream",
          "name": "stdout",
          "text": [
            "Wearable data saved successfully!\n"
          ]
        }
      ]
    },
    {
      "cell_type": "code",
      "source": [
        "wearable_final"
      ],
      "metadata": {
        "colab": {
          "base_uri": "https://localhost:8080/",
          "height": 790
        },
        "id": "BjEuRK7fsVpH",
        "outputId": "7ea42113-f790-4da8-c831-e4346d332623"
      },
      "execution_count": 30,
      "outputs": [
        {
          "output_type": "execute_result",
          "data": {
            "text/plain": [
              "      User_ID            Timestamp  Steps  Calories_Burned  Distance_Covered  \\\n",
              "0     U_00001  2021-01-01 00:00:00   9146           457.30            7.3168   \n",
              "1     U_00002  2021-01-01 01:00:00   9362           468.10            7.4896   \n",
              "2     U_00003  2021-01-01 02:00:00     21             1.05            0.0168   \n",
              "3     U_00004  2021-01-01 03:00:00  13252           662.60           10.6016   \n",
              "4     U_00005  2021-01-01 04:00:00     21             1.05            0.0168   \n",
              "...       ...                  ...    ...              ...               ...   \n",
              "9995  U_09996  2022-02-21 11:00:00  12443           622.15            9.9544   \n",
              "9996  U_09997  2022-02-21 12:00:00   4492           224.60            3.5936   \n",
              "9997  U_09998  2022-02-21 13:00:00   4081           204.05            3.2648   \n",
              "9998  U_09999  2022-02-21 14:00:00  10319           515.95            8.2552   \n",
              "9999  U_10000  2022-02-21 15:00:00   7595           379.75            6.0760   \n",
              "\n",
              "          Exercise_Type  Exercise_Duration Exercise_Intensity  \\\n",
              "0               Running           1.219675                Low   \n",
              "1                  Yoga           1.378399           Moderate   \n",
              "2     Strength Training           0.803857           Moderate   \n",
              "3                   NaN           0.000000                NaN   \n",
              "4                  Yoga           0.807389               High   \n",
              "...                 ...                ...                ...   \n",
              "9995                NaN           0.000000                NaN   \n",
              "9996               Yoga           0.592288               High   \n",
              "9997               Yoga           0.888462           Moderate   \n",
              "9998  Strength Training           0.922524                Low   \n",
              "9999  Strength Training           1.753820               High   \n",
              "\n",
              "      Ambient_Temperature  Battery_Level  ...       ECG  Calories_Intake  \\\n",
              "0               27.271525      97.338777  ...  Abnormal      2444.985808   \n",
              "1               24.430288      66.573240  ...    Normal      2199.777020   \n",
              "2               29.340574      30.138828  ...  Abnormal      2182.755640   \n",
              "3               25.289230      78.838640  ...    Normal      1451.218888   \n",
              "4               21.853590      17.673261  ...    Normal      1583.562773   \n",
              "...                   ...            ...  ...       ...              ...   \n",
              "9995            34.428771      66.802901  ...  Abnormal      2482.932911   \n",
              "9996            32.068240      62.079895  ...    Normal      2196.032378   \n",
              "9997            38.776620      85.657028  ...  Abnormal      1259.932859   \n",
              "9998            34.319393      83.703078  ...  Abnormal      2156.686543   \n",
              "9999            40.321344      60.815054  ...  Abnormal      1538.518444   \n",
              "\n",
              "      Water_Intake  Stress_Level     Mood Skin_Temperature  \\\n",
              "0         3.105556      Moderate  Neutral        32.752993   \n",
              "1         2.441118          High  Anxious        35.010044   \n",
              "2         1.240341           Low      Sad        36.797523   \n",
              "3         1.682383      Moderate    Happy        32.614592   \n",
              "4         1.461862          High    Happy        33.602319   \n",
              "...            ...           ...      ...              ...   \n",
              "9995      1.035077          High  Neutral        34.745721   \n",
              "9996      1.038702           Low  Anxious        37.668751   \n",
              "9997      2.063028      Moderate      Sad        36.353827   \n",
              "9998      1.619009      Moderate    Happy        37.443824   \n",
              "9999      1.739003          High  Neutral        37.643212   \n",
              "\n",
              "      Body_Fat_Percentage  Muscle_Mass Health_Score Anomaly_Flag  \n",
              "0               17.432985    77.599448    25.992071            1  \n",
              "1               23.957792    71.718936    64.308450            0  \n",
              "2               22.995533    59.874936    78.003546            1  \n",
              "3               13.410659    67.528098    16.454106            1  \n",
              "4               24.920020    54.741487    42.528202            0  \n",
              "...                   ...          ...          ...          ...  \n",
              "9995            33.741322    51.081034    30.989037            1  \n",
              "9996            16.143912    45.321272    33.479601            0  \n",
              "9997            24.003121    69.109082    63.361551            1  \n",
              "9998            10.134327    36.225962    60.795266            1  \n",
              "9999            19.644337    25.290833    24.408505            1  \n",
              "\n",
              "[10000 rows x 40 columns]"
            ],
            "text/html": [
              "\n",
              "  <div id=\"df-b24cd39d-8d3a-4745-8192-c6db30932080\" class=\"colab-df-container\">\n",
              "    <div>\n",
              "<style scoped>\n",
              "    .dataframe tbody tr th:only-of-type {\n",
              "        vertical-align: middle;\n",
              "    }\n",
              "\n",
              "    .dataframe tbody tr th {\n",
              "        vertical-align: top;\n",
              "    }\n",
              "\n",
              "    .dataframe thead th {\n",
              "        text-align: right;\n",
              "    }\n",
              "</style>\n",
              "<table border=\"1\" class=\"dataframe\">\n",
              "  <thead>\n",
              "    <tr style=\"text-align: right;\">\n",
              "      <th></th>\n",
              "      <th>User_ID</th>\n",
              "      <th>Timestamp</th>\n",
              "      <th>Steps</th>\n",
              "      <th>Calories_Burned</th>\n",
              "      <th>Distance_Covered</th>\n",
              "      <th>Exercise_Type</th>\n",
              "      <th>Exercise_Duration</th>\n",
              "      <th>Exercise_Intensity</th>\n",
              "      <th>Ambient_Temperature</th>\n",
              "      <th>Battery_Level</th>\n",
              "      <th>...</th>\n",
              "      <th>ECG</th>\n",
              "      <th>Calories_Intake</th>\n",
              "      <th>Water_Intake</th>\n",
              "      <th>Stress_Level</th>\n",
              "      <th>Mood</th>\n",
              "      <th>Skin_Temperature</th>\n",
              "      <th>Body_Fat_Percentage</th>\n",
              "      <th>Muscle_Mass</th>\n",
              "      <th>Health_Score</th>\n",
              "      <th>Anomaly_Flag</th>\n",
              "    </tr>\n",
              "  </thead>\n",
              "  <tbody>\n",
              "    <tr>\n",
              "      <th>0</th>\n",
              "      <td>U_00001</td>\n",
              "      <td>2021-01-01 00:00:00</td>\n",
              "      <td>9146</td>\n",
              "      <td>457.30</td>\n",
              "      <td>7.3168</td>\n",
              "      <td>Running</td>\n",
              "      <td>1.219675</td>\n",
              "      <td>Low</td>\n",
              "      <td>27.271525</td>\n",
              "      <td>97.338777</td>\n",
              "      <td>...</td>\n",
              "      <td>Abnormal</td>\n",
              "      <td>2444.985808</td>\n",
              "      <td>3.105556</td>\n",
              "      <td>Moderate</td>\n",
              "      <td>Neutral</td>\n",
              "      <td>32.752993</td>\n",
              "      <td>17.432985</td>\n",
              "      <td>77.599448</td>\n",
              "      <td>25.992071</td>\n",
              "      <td>1</td>\n",
              "    </tr>\n",
              "    <tr>\n",
              "      <th>1</th>\n",
              "      <td>U_00002</td>\n",
              "      <td>2021-01-01 01:00:00</td>\n",
              "      <td>9362</td>\n",
              "      <td>468.10</td>\n",
              "      <td>7.4896</td>\n",
              "      <td>Yoga</td>\n",
              "      <td>1.378399</td>\n",
              "      <td>Moderate</td>\n",
              "      <td>24.430288</td>\n",
              "      <td>66.573240</td>\n",
              "      <td>...</td>\n",
              "      <td>Normal</td>\n",
              "      <td>2199.777020</td>\n",
              "      <td>2.441118</td>\n",
              "      <td>High</td>\n",
              "      <td>Anxious</td>\n",
              "      <td>35.010044</td>\n",
              "      <td>23.957792</td>\n",
              "      <td>71.718936</td>\n",
              "      <td>64.308450</td>\n",
              "      <td>0</td>\n",
              "    </tr>\n",
              "    <tr>\n",
              "      <th>2</th>\n",
              "      <td>U_00003</td>\n",
              "      <td>2021-01-01 02:00:00</td>\n",
              "      <td>21</td>\n",
              "      <td>1.05</td>\n",
              "      <td>0.0168</td>\n",
              "      <td>Strength Training</td>\n",
              "      <td>0.803857</td>\n",
              "      <td>Moderate</td>\n",
              "      <td>29.340574</td>\n",
              "      <td>30.138828</td>\n",
              "      <td>...</td>\n",
              "      <td>Abnormal</td>\n",
              "      <td>2182.755640</td>\n",
              "      <td>1.240341</td>\n",
              "      <td>Low</td>\n",
              "      <td>Sad</td>\n",
              "      <td>36.797523</td>\n",
              "      <td>22.995533</td>\n",
              "      <td>59.874936</td>\n",
              "      <td>78.003546</td>\n",
              "      <td>1</td>\n",
              "    </tr>\n",
              "    <tr>\n",
              "      <th>3</th>\n",
              "      <td>U_00004</td>\n",
              "      <td>2021-01-01 03:00:00</td>\n",
              "      <td>13252</td>\n",
              "      <td>662.60</td>\n",
              "      <td>10.6016</td>\n",
              "      <td>NaN</td>\n",
              "      <td>0.000000</td>\n",
              "      <td>NaN</td>\n",
              "      <td>25.289230</td>\n",
              "      <td>78.838640</td>\n",
              "      <td>...</td>\n",
              "      <td>Normal</td>\n",
              "      <td>1451.218888</td>\n",
              "      <td>1.682383</td>\n",
              "      <td>Moderate</td>\n",
              "      <td>Happy</td>\n",
              "      <td>32.614592</td>\n",
              "      <td>13.410659</td>\n",
              "      <td>67.528098</td>\n",
              "      <td>16.454106</td>\n",
              "      <td>1</td>\n",
              "    </tr>\n",
              "    <tr>\n",
              "      <th>4</th>\n",
              "      <td>U_00005</td>\n",
              "      <td>2021-01-01 04:00:00</td>\n",
              "      <td>21</td>\n",
              "      <td>1.05</td>\n",
              "      <td>0.0168</td>\n",
              "      <td>Yoga</td>\n",
              "      <td>0.807389</td>\n",
              "      <td>High</td>\n",
              "      <td>21.853590</td>\n",
              "      <td>17.673261</td>\n",
              "      <td>...</td>\n",
              "      <td>Normal</td>\n",
              "      <td>1583.562773</td>\n",
              "      <td>1.461862</td>\n",
              "      <td>High</td>\n",
              "      <td>Happy</td>\n",
              "      <td>33.602319</td>\n",
              "      <td>24.920020</td>\n",
              "      <td>54.741487</td>\n",
              "      <td>42.528202</td>\n",
              "      <td>0</td>\n",
              "    </tr>\n",
              "    <tr>\n",
              "      <th>...</th>\n",
              "      <td>...</td>\n",
              "      <td>...</td>\n",
              "      <td>...</td>\n",
              "      <td>...</td>\n",
              "      <td>...</td>\n",
              "      <td>...</td>\n",
              "      <td>...</td>\n",
              "      <td>...</td>\n",
              "      <td>...</td>\n",
              "      <td>...</td>\n",
              "      <td>...</td>\n",
              "      <td>...</td>\n",
              "      <td>...</td>\n",
              "      <td>...</td>\n",
              "      <td>...</td>\n",
              "      <td>...</td>\n",
              "      <td>...</td>\n",
              "      <td>...</td>\n",
              "      <td>...</td>\n",
              "      <td>...</td>\n",
              "      <td>...</td>\n",
              "    </tr>\n",
              "    <tr>\n",
              "      <th>9995</th>\n",
              "      <td>U_09996</td>\n",
              "      <td>2022-02-21 11:00:00</td>\n",
              "      <td>12443</td>\n",
              "      <td>622.15</td>\n",
              "      <td>9.9544</td>\n",
              "      <td>NaN</td>\n",
              "      <td>0.000000</td>\n",
              "      <td>NaN</td>\n",
              "      <td>34.428771</td>\n",
              "      <td>66.802901</td>\n",
              "      <td>...</td>\n",
              "      <td>Abnormal</td>\n",
              "      <td>2482.932911</td>\n",
              "      <td>1.035077</td>\n",
              "      <td>High</td>\n",
              "      <td>Neutral</td>\n",
              "      <td>34.745721</td>\n",
              "      <td>33.741322</td>\n",
              "      <td>51.081034</td>\n",
              "      <td>30.989037</td>\n",
              "      <td>1</td>\n",
              "    </tr>\n",
              "    <tr>\n",
              "      <th>9996</th>\n",
              "      <td>U_09997</td>\n",
              "      <td>2022-02-21 12:00:00</td>\n",
              "      <td>4492</td>\n",
              "      <td>224.60</td>\n",
              "      <td>3.5936</td>\n",
              "      <td>Yoga</td>\n",
              "      <td>0.592288</td>\n",
              "      <td>High</td>\n",
              "      <td>32.068240</td>\n",
              "      <td>62.079895</td>\n",
              "      <td>...</td>\n",
              "      <td>Normal</td>\n",
              "      <td>2196.032378</td>\n",
              "      <td>1.038702</td>\n",
              "      <td>Low</td>\n",
              "      <td>Anxious</td>\n",
              "      <td>37.668751</td>\n",
              "      <td>16.143912</td>\n",
              "      <td>45.321272</td>\n",
              "      <td>33.479601</td>\n",
              "      <td>0</td>\n",
              "    </tr>\n",
              "    <tr>\n",
              "      <th>9997</th>\n",
              "      <td>U_09998</td>\n",
              "      <td>2022-02-21 13:00:00</td>\n",
              "      <td>4081</td>\n",
              "      <td>204.05</td>\n",
              "      <td>3.2648</td>\n",
              "      <td>Yoga</td>\n",
              "      <td>0.888462</td>\n",
              "      <td>Moderate</td>\n",
              "      <td>38.776620</td>\n",
              "      <td>85.657028</td>\n",
              "      <td>...</td>\n",
              "      <td>Abnormal</td>\n",
              "      <td>1259.932859</td>\n",
              "      <td>2.063028</td>\n",
              "      <td>Moderate</td>\n",
              "      <td>Sad</td>\n",
              "      <td>36.353827</td>\n",
              "      <td>24.003121</td>\n",
              "      <td>69.109082</td>\n",
              "      <td>63.361551</td>\n",
              "      <td>1</td>\n",
              "    </tr>\n",
              "    <tr>\n",
              "      <th>9998</th>\n",
              "      <td>U_09999</td>\n",
              "      <td>2022-02-21 14:00:00</td>\n",
              "      <td>10319</td>\n",
              "      <td>515.95</td>\n",
              "      <td>8.2552</td>\n",
              "      <td>Strength Training</td>\n",
              "      <td>0.922524</td>\n",
              "      <td>Low</td>\n",
              "      <td>34.319393</td>\n",
              "      <td>83.703078</td>\n",
              "      <td>...</td>\n",
              "      <td>Abnormal</td>\n",
              "      <td>2156.686543</td>\n",
              "      <td>1.619009</td>\n",
              "      <td>Moderate</td>\n",
              "      <td>Happy</td>\n",
              "      <td>37.443824</td>\n",
              "      <td>10.134327</td>\n",
              "      <td>36.225962</td>\n",
              "      <td>60.795266</td>\n",
              "      <td>1</td>\n",
              "    </tr>\n",
              "    <tr>\n",
              "      <th>9999</th>\n",
              "      <td>U_10000</td>\n",
              "      <td>2022-02-21 15:00:00</td>\n",
              "      <td>7595</td>\n",
              "      <td>379.75</td>\n",
              "      <td>6.0760</td>\n",
              "      <td>Strength Training</td>\n",
              "      <td>1.753820</td>\n",
              "      <td>High</td>\n",
              "      <td>40.321344</td>\n",
              "      <td>60.815054</td>\n",
              "      <td>...</td>\n",
              "      <td>Abnormal</td>\n",
              "      <td>1538.518444</td>\n",
              "      <td>1.739003</td>\n",
              "      <td>High</td>\n",
              "      <td>Neutral</td>\n",
              "      <td>37.643212</td>\n",
              "      <td>19.644337</td>\n",
              "      <td>25.290833</td>\n",
              "      <td>24.408505</td>\n",
              "      <td>1</td>\n",
              "    </tr>\n",
              "  </tbody>\n",
              "</table>\n",
              "<p>10000 rows × 40 columns</p>\n",
              "</div>\n",
              "    <div class=\"colab-df-buttons\">\n",
              "\n",
              "  <div class=\"colab-df-container\">\n",
              "    <button class=\"colab-df-convert\" onclick=\"convertToInteractive('df-b24cd39d-8d3a-4745-8192-c6db30932080')\"\n",
              "            title=\"Convert this dataframe to an interactive table.\"\n",
              "            style=\"display:none;\">\n",
              "\n",
              "  <svg xmlns=\"http://www.w3.org/2000/svg\" height=\"24px\" viewBox=\"0 -960 960 960\">\n",
              "    <path d=\"M120-120v-720h720v720H120Zm60-500h600v-160H180v160Zm220 220h160v-160H400v160Zm0 220h160v-160H400v160ZM180-400h160v-160H180v160Zm440 0h160v-160H620v160ZM180-180h160v-160H180v160Zm440 0h160v-160H620v160Z\"/>\n",
              "  </svg>\n",
              "    </button>\n",
              "\n",
              "  <style>\n",
              "    .colab-df-container {\n",
              "      display:flex;\n",
              "      gap: 12px;\n",
              "    }\n",
              "\n",
              "    .colab-df-convert {\n",
              "      background-color: #E8F0FE;\n",
              "      border: none;\n",
              "      border-radius: 50%;\n",
              "      cursor: pointer;\n",
              "      display: none;\n",
              "      fill: #1967D2;\n",
              "      height: 32px;\n",
              "      padding: 0 0 0 0;\n",
              "      width: 32px;\n",
              "    }\n",
              "\n",
              "    .colab-df-convert:hover {\n",
              "      background-color: #E2EBFA;\n",
              "      box-shadow: 0px 1px 2px rgba(60, 64, 67, 0.3), 0px 1px 3px 1px rgba(60, 64, 67, 0.15);\n",
              "      fill: #174EA6;\n",
              "    }\n",
              "\n",
              "    .colab-df-buttons div {\n",
              "      margin-bottom: 4px;\n",
              "    }\n",
              "\n",
              "    [theme=dark] .colab-df-convert {\n",
              "      background-color: #3B4455;\n",
              "      fill: #D2E3FC;\n",
              "    }\n",
              "\n",
              "    [theme=dark] .colab-df-convert:hover {\n",
              "      background-color: #434B5C;\n",
              "      box-shadow: 0px 1px 3px 1px rgba(0, 0, 0, 0.15);\n",
              "      filter: drop-shadow(0px 1px 2px rgba(0, 0, 0, 0.3));\n",
              "      fill: #FFFFFF;\n",
              "    }\n",
              "  </style>\n",
              "\n",
              "    <script>\n",
              "      const buttonEl =\n",
              "        document.querySelector('#df-b24cd39d-8d3a-4745-8192-c6db30932080 button.colab-df-convert');\n",
              "      buttonEl.style.display =\n",
              "        google.colab.kernel.accessAllowed ? 'block' : 'none';\n",
              "\n",
              "      async function convertToInteractive(key) {\n",
              "        const element = document.querySelector('#df-b24cd39d-8d3a-4745-8192-c6db30932080');\n",
              "        const dataTable =\n",
              "          await google.colab.kernel.invokeFunction('convertToInteractive',\n",
              "                                                    [key], {});\n",
              "        if (!dataTable) return;\n",
              "\n",
              "        const docLinkHtml = 'Like what you see? Visit the ' +\n",
              "          '<a target=\"_blank\" href=https://colab.research.google.com/notebooks/data_table.ipynb>data table notebook</a>'\n",
              "          + ' to learn more about interactive tables.';\n",
              "        element.innerHTML = '';\n",
              "        dataTable['output_type'] = 'display_data';\n",
              "        await google.colab.output.renderOutput(dataTable, element);\n",
              "        const docLink = document.createElement('div');\n",
              "        docLink.innerHTML = docLinkHtml;\n",
              "        element.appendChild(docLink);\n",
              "      }\n",
              "    </script>\n",
              "  </div>\n",
              "\n",
              "\n",
              "<div id=\"df-47cbc12d-297c-4104-bccc-2691a90a2f49\">\n",
              "  <button class=\"colab-df-quickchart\" onclick=\"quickchart('df-47cbc12d-297c-4104-bccc-2691a90a2f49')\"\n",
              "            title=\"Suggest charts\"\n",
              "            style=\"display:none;\">\n",
              "\n",
              "<svg xmlns=\"http://www.w3.org/2000/svg\" height=\"24px\"viewBox=\"0 0 24 24\"\n",
              "     width=\"24px\">\n",
              "    <g>\n",
              "        <path d=\"M19 3H5c-1.1 0-2 .9-2 2v14c0 1.1.9 2 2 2h14c1.1 0 2-.9 2-2V5c0-1.1-.9-2-2-2zM9 17H7v-7h2v7zm4 0h-2V7h2v10zm4 0h-2v-4h2v4z\"/>\n",
              "    </g>\n",
              "</svg>\n",
              "  </button>\n",
              "\n",
              "<style>\n",
              "  .colab-df-quickchart {\n",
              "      --bg-color: #E8F0FE;\n",
              "      --fill-color: #1967D2;\n",
              "      --hover-bg-color: #E2EBFA;\n",
              "      --hover-fill-color: #174EA6;\n",
              "      --disabled-fill-color: #AAA;\n",
              "      --disabled-bg-color: #DDD;\n",
              "  }\n",
              "\n",
              "  [theme=dark] .colab-df-quickchart {\n",
              "      --bg-color: #3B4455;\n",
              "      --fill-color: #D2E3FC;\n",
              "      --hover-bg-color: #434B5C;\n",
              "      --hover-fill-color: #FFFFFF;\n",
              "      --disabled-bg-color: #3B4455;\n",
              "      --disabled-fill-color: #666;\n",
              "  }\n",
              "\n",
              "  .colab-df-quickchart {\n",
              "    background-color: var(--bg-color);\n",
              "    border: none;\n",
              "    border-radius: 50%;\n",
              "    cursor: pointer;\n",
              "    display: none;\n",
              "    fill: var(--fill-color);\n",
              "    height: 32px;\n",
              "    padding: 0;\n",
              "    width: 32px;\n",
              "  }\n",
              "\n",
              "  .colab-df-quickchart:hover {\n",
              "    background-color: var(--hover-bg-color);\n",
              "    box-shadow: 0 1px 2px rgba(60, 64, 67, 0.3), 0 1px 3px 1px rgba(60, 64, 67, 0.15);\n",
              "    fill: var(--button-hover-fill-color);\n",
              "  }\n",
              "\n",
              "  .colab-df-quickchart-complete:disabled,\n",
              "  .colab-df-quickchart-complete:disabled:hover {\n",
              "    background-color: var(--disabled-bg-color);\n",
              "    fill: var(--disabled-fill-color);\n",
              "    box-shadow: none;\n",
              "  }\n",
              "\n",
              "  .colab-df-spinner {\n",
              "    border: 2px solid var(--fill-color);\n",
              "    border-color: transparent;\n",
              "    border-bottom-color: var(--fill-color);\n",
              "    animation:\n",
              "      spin 1s steps(1) infinite;\n",
              "  }\n",
              "\n",
              "  @keyframes spin {\n",
              "    0% {\n",
              "      border-color: transparent;\n",
              "      border-bottom-color: var(--fill-color);\n",
              "      border-left-color: var(--fill-color);\n",
              "    }\n",
              "    20% {\n",
              "      border-color: transparent;\n",
              "      border-left-color: var(--fill-color);\n",
              "      border-top-color: var(--fill-color);\n",
              "    }\n",
              "    30% {\n",
              "      border-color: transparent;\n",
              "      border-left-color: var(--fill-color);\n",
              "      border-top-color: var(--fill-color);\n",
              "      border-right-color: var(--fill-color);\n",
              "    }\n",
              "    40% {\n",
              "      border-color: transparent;\n",
              "      border-right-color: var(--fill-color);\n",
              "      border-top-color: var(--fill-color);\n",
              "    }\n",
              "    60% {\n",
              "      border-color: transparent;\n",
              "      border-right-color: var(--fill-color);\n",
              "    }\n",
              "    80% {\n",
              "      border-color: transparent;\n",
              "      border-right-color: var(--fill-color);\n",
              "      border-bottom-color: var(--fill-color);\n",
              "    }\n",
              "    90% {\n",
              "      border-color: transparent;\n",
              "      border-bottom-color: var(--fill-color);\n",
              "    }\n",
              "  }\n",
              "</style>\n",
              "\n",
              "  <script>\n",
              "    async function quickchart(key) {\n",
              "      const quickchartButtonEl =\n",
              "        document.querySelector('#' + key + ' button');\n",
              "      quickchartButtonEl.disabled = true;  // To prevent multiple clicks.\n",
              "      quickchartButtonEl.classList.add('colab-df-spinner');\n",
              "      try {\n",
              "        const charts = await google.colab.kernel.invokeFunction(\n",
              "            'suggestCharts', [key], {});\n",
              "      } catch (error) {\n",
              "        console.error('Error during call to suggestCharts:', error);\n",
              "      }\n",
              "      quickchartButtonEl.classList.remove('colab-df-spinner');\n",
              "      quickchartButtonEl.classList.add('colab-df-quickchart-complete');\n",
              "    }\n",
              "    (() => {\n",
              "      let quickchartButtonEl =\n",
              "        document.querySelector('#df-47cbc12d-297c-4104-bccc-2691a90a2f49 button');\n",
              "      quickchartButtonEl.style.display =\n",
              "        google.colab.kernel.accessAllowed ? 'block' : 'none';\n",
              "    })();\n",
              "  </script>\n",
              "</div>\n",
              "\n",
              "  <div id=\"id_654d3d71-93ae-41ef-8353-929e7ea6f96b\">\n",
              "    <style>\n",
              "      .colab-df-generate {\n",
              "        background-color: #E8F0FE;\n",
              "        border: none;\n",
              "        border-radius: 50%;\n",
              "        cursor: pointer;\n",
              "        display: none;\n",
              "        fill: #1967D2;\n",
              "        height: 32px;\n",
              "        padding: 0 0 0 0;\n",
              "        width: 32px;\n",
              "      }\n",
              "\n",
              "      .colab-df-generate:hover {\n",
              "        background-color: #E2EBFA;\n",
              "        box-shadow: 0px 1px 2px rgba(60, 64, 67, 0.3), 0px 1px 3px 1px rgba(60, 64, 67, 0.15);\n",
              "        fill: #174EA6;\n",
              "      }\n",
              "\n",
              "      [theme=dark] .colab-df-generate {\n",
              "        background-color: #3B4455;\n",
              "        fill: #D2E3FC;\n",
              "      }\n",
              "\n",
              "      [theme=dark] .colab-df-generate:hover {\n",
              "        background-color: #434B5C;\n",
              "        box-shadow: 0px 1px 3px 1px rgba(0, 0, 0, 0.15);\n",
              "        filter: drop-shadow(0px 1px 2px rgba(0, 0, 0, 0.3));\n",
              "        fill: #FFFFFF;\n",
              "      }\n",
              "    </style>\n",
              "    <button class=\"colab-df-generate\" onclick=\"generateWithVariable('wearable_final')\"\n",
              "            title=\"Generate code using this dataframe.\"\n",
              "            style=\"display:none;\">\n",
              "\n",
              "  <svg xmlns=\"http://www.w3.org/2000/svg\" height=\"24px\"viewBox=\"0 0 24 24\"\n",
              "       width=\"24px\">\n",
              "    <path d=\"M7,19H8.4L18.45,9,17,7.55,7,17.6ZM5,21V16.75L18.45,3.32a2,2,0,0,1,2.83,0l1.4,1.43a1.91,1.91,0,0,1,.58,1.4,1.91,1.91,0,0,1-.58,1.4L9.25,21ZM18.45,9,17,7.55Zm-12,3A5.31,5.31,0,0,0,4.9,8.1,5.31,5.31,0,0,0,1,6.5,5.31,5.31,0,0,0,4.9,4.9,5.31,5.31,0,0,0,6.5,1,5.31,5.31,0,0,0,8.1,4.9,5.31,5.31,0,0,0,12,6.5,5.46,5.46,0,0,0,6.5,12Z\"/>\n",
              "  </svg>\n",
              "    </button>\n",
              "    <script>\n",
              "      (() => {\n",
              "      const buttonEl =\n",
              "        document.querySelector('#id_654d3d71-93ae-41ef-8353-929e7ea6f96b button.colab-df-generate');\n",
              "      buttonEl.style.display =\n",
              "        google.colab.kernel.accessAllowed ? 'block' : 'none';\n",
              "\n",
              "      buttonEl.onclick = () => {\n",
              "        google.colab.notebook.generateWithVariable('wearable_final');\n",
              "      }\n",
              "      })();\n",
              "    </script>\n",
              "  </div>\n",
              "\n",
              "    </div>\n",
              "  </div>\n"
            ],
            "application/vnd.google.colaboratory.intrinsic+json": {
              "type": "dataframe",
              "variable_name": "wearable_final"
            }
          },
          "metadata": {},
          "execution_count": 30
        }
      ]
    },
    {
      "cell_type": "code",
      "source": [
        "wearable_df = wearable_final"
      ],
      "metadata": {
        "id": "8kdwfxB1tFuJ"
      },
      "execution_count": 31,
      "outputs": []
    },
    {
      "cell_type": "code",
      "source": [
        "# Clean column names\n",
        "wearable_df.columns = wearable_df.columns.str.strip().str.lower().str.replace(\" \", \"_\").str.replace(\"-\", \"_\")\n",
        "\n",
        "# Display updated column names\n",
        "print(\"Updated Column Names:\", wearable_df.columns)\n"
      ],
      "metadata": {
        "colab": {
          "base_uri": "https://localhost:8080/"
        },
        "id": "VS02b-GX0kNZ",
        "outputId": "53029fe2-33b7-43e0-ecbb-3327ef56d40e"
      },
      "execution_count": 32,
      "outputs": [
        {
          "output_type": "stream",
          "name": "stdout",
          "text": [
            "Updated Column Names: Index(['user_id', 'timestamp', 'steps', 'calories_burned', 'distance_covered',\n",
            "       'exercise_type', 'exercise_duration', 'exercise_intensity',\n",
            "       'ambient_temperature', 'battery_level', 'altitude', 'uv_exposure',\n",
            "       'notifications_received', 'screen_time', 'age', 'gender', 'weight',\n",
            "       'height', 'medical_conditions', 'medication', 'smoker',\n",
            "       'alcohol_consumption', 'day_of_week', 'sleep_duration',\n",
            "       'deep_sleep_duration', 'rem_sleep_duration', 'wakeups', 'snoring',\n",
            "       'heart_rate', 'blood_oxygen_level', 'ecg', 'calories_intake',\n",
            "       'water_intake', 'stress_level', 'mood', 'skin_temperature',\n",
            "       'body_fat_percentage', 'muscle_mass', 'health_score', 'anomaly_flag'],\n",
            "      dtype='object')\n"
          ]
        }
      ]
    },
    {
      "cell_type": "code",
      "source": [
        "# Check missing values\n",
        "print(\"Missing Values in Wearable Data:\\n\", wearable_df.isnull().sum())\n",
        "\n",
        "# Fill numerical missing values with median\n",
        "wearable_df.fillna(wearable_df.median(numeric_only=True), inplace=True)\n",
        "\n",
        "# Fill categorical missing values with 'unknown'\n",
        "wearable_df.fillna(\"unknown\", inplace=True)\n",
        "\n",
        "# Verify missing values handled\n",
        "print(\"Missing values after handling:\\n\", wearable_df.isnull().sum())\n"
      ],
      "metadata": {
        "colab": {
          "base_uri": "https://localhost:8080/"
        },
        "id": "4AoQZwIt0q4A",
        "outputId": "35b019f2-5984-4576-b604-f1f90f63e720"
      },
      "execution_count": 33,
      "outputs": [
        {
          "output_type": "stream",
          "name": "stdout",
          "text": [
            "Missing Values in Wearable Data:\n",
            " user_id                      0\n",
            "timestamp                    0\n",
            "steps                        0\n",
            "calories_burned              0\n",
            "distance_covered             0\n",
            "exercise_type             2601\n",
            "exercise_duration            0\n",
            "exercise_intensity        2601\n",
            "ambient_temperature          0\n",
            "battery_level                0\n",
            "altitude                     0\n",
            "uv_exposure                  0\n",
            "notifications_received       0\n",
            "screen_time                  0\n",
            "age                          0\n",
            "gender                       0\n",
            "weight                       0\n",
            "height                       0\n",
            "medical_conditions        3304\n",
            "medication                   0\n",
            "smoker                       0\n",
            "alcohol_consumption       3360\n",
            "day_of_week                  0\n",
            "sleep_duration               0\n",
            "deep_sleep_duration          0\n",
            "rem_sleep_duration           0\n",
            "wakeups                      0\n",
            "snoring                      0\n",
            "heart_rate                   0\n",
            "blood_oxygen_level           0\n",
            "ecg                          0\n",
            "calories_intake              0\n",
            "water_intake                 0\n",
            "stress_level                 0\n",
            "mood                         0\n",
            "skin_temperature             0\n",
            "body_fat_percentage          0\n",
            "muscle_mass                  0\n",
            "health_score                 0\n",
            "anomaly_flag                 0\n",
            "dtype: int64\n",
            "Missing values after handling:\n",
            " user_id                   0\n",
            "timestamp                 0\n",
            "steps                     0\n",
            "calories_burned           0\n",
            "distance_covered          0\n",
            "exercise_type             0\n",
            "exercise_duration         0\n",
            "exercise_intensity        0\n",
            "ambient_temperature       0\n",
            "battery_level             0\n",
            "altitude                  0\n",
            "uv_exposure               0\n",
            "notifications_received    0\n",
            "screen_time               0\n",
            "age                       0\n",
            "gender                    0\n",
            "weight                    0\n",
            "height                    0\n",
            "medical_conditions        0\n",
            "medication                0\n",
            "smoker                    0\n",
            "alcohol_consumption       0\n",
            "day_of_week               0\n",
            "sleep_duration            0\n",
            "deep_sleep_duration       0\n",
            "rem_sleep_duration        0\n",
            "wakeups                   0\n",
            "snoring                   0\n",
            "heart_rate                0\n",
            "blood_oxygen_level        0\n",
            "ecg                       0\n",
            "calories_intake           0\n",
            "water_intake              0\n",
            "stress_level              0\n",
            "mood                      0\n",
            "skin_temperature          0\n",
            "body_fat_percentage       0\n",
            "muscle_mass               0\n",
            "health_score              0\n",
            "anomaly_flag              0\n",
            "dtype: int64\n"
          ]
        }
      ]
    },
    {
      "cell_type": "code",
      "source": [
        "# Drop duplicate rows\n",
        "wearable_df.drop_duplicates(inplace=True)\n",
        "\n",
        "print(\"Duplicates removed\")\n"
      ],
      "metadata": {
        "colab": {
          "base_uri": "https://localhost:8080/"
        },
        "id": "TkEjoq8S0stm",
        "outputId": "e07303a8-5b05-47a5-da3b-0cb7d6e32d79"
      },
      "execution_count": 34,
      "outputs": [
        {
          "output_type": "stream",
          "name": "stdout",
          "text": [
            "Duplicates removed\n"
          ]
        }
      ]
    },
    {
      "cell_type": "code",
      "source": [
        "# Convert timestamp column to datetime format\n",
        "wearable_df['timestamp'] = pd.to_datetime(wearable_df['timestamp'], errors='coerce')\n",
        "\n",
        "# Convert numeric columns to correct types\n",
        "numeric_cols = ['steps', 'calories_burned', 'distance_covered', 'heart_rate']\n",
        "wearable_df[numeric_cols] = wearable_df[numeric_cols].apply(pd.to_numeric, errors='coerce')\n",
        "\n",
        "print(\"Data types validated!\")\n"
      ],
      "metadata": {
        "colab": {
          "base_uri": "https://localhost:8080/"
        },
        "id": "7pcjtbIc0vAi",
        "outputId": "9d3105dd-29a4-4ec9-f167-558c23d22567"
      },
      "execution_count": 35,
      "outputs": [
        {
          "output_type": "stream",
          "name": "stdout",
          "text": [
            "Data types validated!\n"
          ]
        }
      ]
    },
    {
      "cell_type": "code",
      "source": [
        "# Function to remove outliers using Interquartile Range\n",
        "def remove_outliers(df, col):\n",
        "    Q1 = df[col].quantile(0.25)\n",
        "    Q3 = df[col].quantile(0.75)\n",
        "    IQR = Q3 - Q1\n",
        "    lower_bound = Q1 - 1.5 * IQR\n",
        "    upper_bound = Q3 + 1.5 * IQR\n",
        "    return df[(df[col] >= lower_bound) & (df[col] <= upper_bound)]\n",
        "\n",
        "# Apply outlier removal to numeric columns\n",
        "for col in numeric_cols:\n",
        "    wearable_df = remove_outliers(wearable_df, col)\n",
        "\n",
        "print(\"Outliers removed!\")\n"
      ],
      "metadata": {
        "colab": {
          "base_uri": "https://localhost:8080/"
        },
        "id": "vN31ujlf0wvR",
        "outputId": "60dfc892-9be5-47a8-ff92-e199dd6fab77"
      },
      "execution_count": 36,
      "outputs": [
        {
          "output_type": "stream",
          "name": "stdout",
          "text": [
            "Outliers removed!\n"
          ]
        }
      ]
    },
    {
      "cell_type": "code",
      "source": [
        "wearable_df.to_csv(\"/content/wearable_features.csv\", index=False)\n",
        "\n"
      ],
      "metadata": {
        "id": "2h0qJbzl025O"
      },
      "execution_count": 37,
      "outputs": []
    },
    {
      "cell_type": "markdown",
      "source": [
        "Now that the data is cleaned, we will move to feature engineering, where we create meaningful features that improve analysis and model performance."
      ],
      "metadata": {
        "id": "pqBEc2wt1PVA"
      }
    },
    {
      "cell_type": "markdown",
      "source": [
        "Wearable Data (wearable_cleaned.csv)\n",
        " New Features to Create:\n",
        "\n",
        "Activity Ratio → steps / calories_burned\n",
        "Sleep Efficiency → deep_sleep_duration / sleep_duration\n",
        "Heart Rate Variability → max(heart_rate) - min(heart_rate)\n",
        "\n",
        "Transform Categorical Data:\n",
        "\n",
        "Convert exercise_type, mood, stress_level into numeric encoding."
      ],
      "metadata": {
        "id": "OMvPQPuN1n5f"
      }
    },
    {
      "cell_type": "code",
      "source": [
        "# Create new features\n",
        "wearable_df['activity_ratio'] = wearable_df['steps'] / wearable_df['calories_burned']\n",
        "wearable_df['sleep_efficiency'] = wearable_df['deep_sleep_duration'] / wearable_df['sleep_duration']\n",
        "wearable_df['heart_rate_variability'] = wearable_df['heart_rate'].max() - wearable_df['heart_rate'].min()\n"
      ],
      "metadata": {
        "id": "j1m_hHFA1u-X"
      },
      "execution_count": 38,
      "outputs": []
    },
    {
      "cell_type": "code",
      "source": [
        "# Encode categorical columns\n",
        "categorical_cols = ['exercise_type', 'mood', 'stress_level']\n",
        "wearable_df = pd.get_dummies(wearable_df, columns=categorical_cols)"
      ],
      "metadata": {
        "id": "FzuALD3-1waV"
      },
      "execution_count": 39,
      "outputs": []
    },
    {
      "cell_type": "code",
      "source": [
        "wearable_df.to_csv(\"/content/wearable_features.csv\", index=False)"
      ],
      "metadata": {
        "id": "zCdoKpqG1ykI"
      },
      "execution_count": 16,
      "outputs": []
    },
    {
      "cell_type": "code",
      "source": [
        "wearable_df.columns"
      ],
      "metadata": {
        "colab": {
          "base_uri": "https://localhost:8080/"
        },
        "id": "EPMTdEm1U73N",
        "outputId": "e3d0dfed-1637-4202-cd45-115258f3204f"
      },
      "execution_count": 40,
      "outputs": [
        {
          "output_type": "execute_result",
          "data": {
            "text/plain": [
              "Index(['user_id', 'timestamp', 'steps', 'calories_burned', 'distance_covered',\n",
              "       'exercise_duration', 'exercise_intensity', 'ambient_temperature',\n",
              "       'battery_level', 'altitude', 'uv_exposure', 'notifications_received',\n",
              "       'screen_time', 'age', 'gender', 'weight', 'height',\n",
              "       'medical_conditions', 'medication', 'smoker', 'alcohol_consumption',\n",
              "       'day_of_week', 'sleep_duration', 'deep_sleep_duration',\n",
              "       'rem_sleep_duration', 'wakeups', 'snoring', 'heart_rate',\n",
              "       'blood_oxygen_level', 'ecg', 'calories_intake', 'water_intake',\n",
              "       'skin_temperature', 'body_fat_percentage', 'muscle_mass',\n",
              "       'health_score', 'anomaly_flag', 'activity_ratio', 'sleep_efficiency',\n",
              "       'heart_rate_variability', 'exercise_type_Running',\n",
              "       'exercise_type_Strength Training', 'exercise_type_Yoga',\n",
              "       'exercise_type_unknown', 'mood_Anxious', 'mood_Happy', 'mood_Neutral',\n",
              "       'mood_Sad', 'stress_level_High', 'stress_level_Low',\n",
              "       'stress_level_Moderate'],\n",
              "      dtype='object')"
            ]
          },
          "metadata": {},
          "execution_count": 40
        }
      ]
    },
    {
      "cell_type": "code",
      "source": [
        "wearable_df"
      ],
      "metadata": {
        "colab": {
          "base_uri": "https://localhost:8080/",
          "height": 808
        },
        "id": "ReBVmo8wZoFq",
        "outputId": "2827cb1d-2e7e-40fe-ad67-ff53f1658b5e"
      },
      "execution_count": 41,
      "outputs": [
        {
          "output_type": "execute_result",
          "data": {
            "text/plain": [
              "      user_id           timestamp  steps  calories_burned  distance_covered  \\\n",
              "0     U_00001 2021-01-01 00:00:00   9146           457.30            7.3168   \n",
              "1     U_00002 2021-01-01 01:00:00   9362           468.10            7.4896   \n",
              "2     U_00003 2021-01-01 02:00:00     21             1.05            0.0168   \n",
              "3     U_00004 2021-01-01 03:00:00  13252           662.60           10.6016   \n",
              "4     U_00005 2021-01-01 04:00:00     21             1.05            0.0168   \n",
              "...       ...                 ...    ...              ...               ...   \n",
              "9995  U_09996 2022-02-21 11:00:00  12443           622.15            9.9544   \n",
              "9996  U_09997 2022-02-21 12:00:00   4492           224.60            3.5936   \n",
              "9997  U_09998 2022-02-21 13:00:00   4081           204.05            3.2648   \n",
              "9998  U_09999 2022-02-21 14:00:00  10319           515.95            8.2552   \n",
              "9999  U_10000 2022-02-21 15:00:00   7595           379.75            6.0760   \n",
              "\n",
              "      exercise_duration exercise_intensity  ambient_temperature  \\\n",
              "0              1.219675                Low            27.271525   \n",
              "1              1.378399           Moderate            24.430288   \n",
              "2              0.803857           Moderate            29.340574   \n",
              "3              0.000000            unknown            25.289230   \n",
              "4              0.807389               High            21.853590   \n",
              "...                 ...                ...                  ...   \n",
              "9995           0.000000            unknown            34.428771   \n",
              "9996           0.592288               High            32.068240   \n",
              "9997           0.888462           Moderate            38.776620   \n",
              "9998           0.922524                Low            34.319393   \n",
              "9999           1.753820               High            40.321344   \n",
              "\n",
              "      battery_level     altitude  ...  exercise_type_Strength Training  \\\n",
              "0         97.338777  1739.690662  ...                            False   \n",
              "1         66.573240  4102.042824  ...                            False   \n",
              "2         30.138828  1794.899935  ...                             True   \n",
              "3         78.838640  4025.840921  ...                            False   \n",
              "4         17.673261  3422.381447  ...                            False   \n",
              "...             ...          ...  ...                              ...   \n",
              "9995      66.802901  4736.969993  ...                            False   \n",
              "9996      62.079895  3763.910549  ...                            False   \n",
              "9997      85.657028  2726.024512  ...                            False   \n",
              "9998      83.703078  2391.196197  ...                             True   \n",
              "9999      60.815054  4490.199248  ...                             True   \n",
              "\n",
              "      exercise_type_Yoga  exercise_type_unknown  mood_Anxious mood_Happy  \\\n",
              "0                  False                  False         False      False   \n",
              "1                   True                  False          True      False   \n",
              "2                  False                  False         False      False   \n",
              "3                  False                   True         False       True   \n",
              "4                   True                  False         False       True   \n",
              "...                  ...                    ...           ...        ...   \n",
              "9995               False                   True         False      False   \n",
              "9996                True                  False          True      False   \n",
              "9997                True                  False         False      False   \n",
              "9998               False                  False         False       True   \n",
              "9999               False                  False         False      False   \n",
              "\n",
              "      mood_Neutral  mood_Sad stress_level_High stress_level_Low  \\\n",
              "0             True     False             False            False   \n",
              "1            False     False              True            False   \n",
              "2            False      True             False             True   \n",
              "3            False     False             False            False   \n",
              "4            False     False              True            False   \n",
              "...            ...       ...               ...              ...   \n",
              "9995          True     False              True            False   \n",
              "9996         False     False             False             True   \n",
              "9997         False      True             False            False   \n",
              "9998         False     False             False            False   \n",
              "9999          True     False              True            False   \n",
              "\n",
              "     stress_level_Moderate  \n",
              "0                     True  \n",
              "1                    False  \n",
              "2                    False  \n",
              "3                     True  \n",
              "4                    False  \n",
              "...                    ...  \n",
              "9995                 False  \n",
              "9996                 False  \n",
              "9997                  True  \n",
              "9998                  True  \n",
              "9999                 False  \n",
              "\n",
              "[10000 rows x 51 columns]"
            ],
            "text/html": [
              "\n",
              "  <div id=\"df-55ab9b9f-fd63-45d9-8f6f-d9ae822fec02\" class=\"colab-df-container\">\n",
              "    <div>\n",
              "<style scoped>\n",
              "    .dataframe tbody tr th:only-of-type {\n",
              "        vertical-align: middle;\n",
              "    }\n",
              "\n",
              "    .dataframe tbody tr th {\n",
              "        vertical-align: top;\n",
              "    }\n",
              "\n",
              "    .dataframe thead th {\n",
              "        text-align: right;\n",
              "    }\n",
              "</style>\n",
              "<table border=\"1\" class=\"dataframe\">\n",
              "  <thead>\n",
              "    <tr style=\"text-align: right;\">\n",
              "      <th></th>\n",
              "      <th>user_id</th>\n",
              "      <th>timestamp</th>\n",
              "      <th>steps</th>\n",
              "      <th>calories_burned</th>\n",
              "      <th>distance_covered</th>\n",
              "      <th>exercise_duration</th>\n",
              "      <th>exercise_intensity</th>\n",
              "      <th>ambient_temperature</th>\n",
              "      <th>battery_level</th>\n",
              "      <th>altitude</th>\n",
              "      <th>...</th>\n",
              "      <th>exercise_type_Strength Training</th>\n",
              "      <th>exercise_type_Yoga</th>\n",
              "      <th>exercise_type_unknown</th>\n",
              "      <th>mood_Anxious</th>\n",
              "      <th>mood_Happy</th>\n",
              "      <th>mood_Neutral</th>\n",
              "      <th>mood_Sad</th>\n",
              "      <th>stress_level_High</th>\n",
              "      <th>stress_level_Low</th>\n",
              "      <th>stress_level_Moderate</th>\n",
              "    </tr>\n",
              "  </thead>\n",
              "  <tbody>\n",
              "    <tr>\n",
              "      <th>0</th>\n",
              "      <td>U_00001</td>\n",
              "      <td>2021-01-01 00:00:00</td>\n",
              "      <td>9146</td>\n",
              "      <td>457.30</td>\n",
              "      <td>7.3168</td>\n",
              "      <td>1.219675</td>\n",
              "      <td>Low</td>\n",
              "      <td>27.271525</td>\n",
              "      <td>97.338777</td>\n",
              "      <td>1739.690662</td>\n",
              "      <td>...</td>\n",
              "      <td>False</td>\n",
              "      <td>False</td>\n",
              "      <td>False</td>\n",
              "      <td>False</td>\n",
              "      <td>False</td>\n",
              "      <td>True</td>\n",
              "      <td>False</td>\n",
              "      <td>False</td>\n",
              "      <td>False</td>\n",
              "      <td>True</td>\n",
              "    </tr>\n",
              "    <tr>\n",
              "      <th>1</th>\n",
              "      <td>U_00002</td>\n",
              "      <td>2021-01-01 01:00:00</td>\n",
              "      <td>9362</td>\n",
              "      <td>468.10</td>\n",
              "      <td>7.4896</td>\n",
              "      <td>1.378399</td>\n",
              "      <td>Moderate</td>\n",
              "      <td>24.430288</td>\n",
              "      <td>66.573240</td>\n",
              "      <td>4102.042824</td>\n",
              "      <td>...</td>\n",
              "      <td>False</td>\n",
              "      <td>True</td>\n",
              "      <td>False</td>\n",
              "      <td>True</td>\n",
              "      <td>False</td>\n",
              "      <td>False</td>\n",
              "      <td>False</td>\n",
              "      <td>True</td>\n",
              "      <td>False</td>\n",
              "      <td>False</td>\n",
              "    </tr>\n",
              "    <tr>\n",
              "      <th>2</th>\n",
              "      <td>U_00003</td>\n",
              "      <td>2021-01-01 02:00:00</td>\n",
              "      <td>21</td>\n",
              "      <td>1.05</td>\n",
              "      <td>0.0168</td>\n",
              "      <td>0.803857</td>\n",
              "      <td>Moderate</td>\n",
              "      <td>29.340574</td>\n",
              "      <td>30.138828</td>\n",
              "      <td>1794.899935</td>\n",
              "      <td>...</td>\n",
              "      <td>True</td>\n",
              "      <td>False</td>\n",
              "      <td>False</td>\n",
              "      <td>False</td>\n",
              "      <td>False</td>\n",
              "      <td>False</td>\n",
              "      <td>True</td>\n",
              "      <td>False</td>\n",
              "      <td>True</td>\n",
              "      <td>False</td>\n",
              "    </tr>\n",
              "    <tr>\n",
              "      <th>3</th>\n",
              "      <td>U_00004</td>\n",
              "      <td>2021-01-01 03:00:00</td>\n",
              "      <td>13252</td>\n",
              "      <td>662.60</td>\n",
              "      <td>10.6016</td>\n",
              "      <td>0.000000</td>\n",
              "      <td>unknown</td>\n",
              "      <td>25.289230</td>\n",
              "      <td>78.838640</td>\n",
              "      <td>4025.840921</td>\n",
              "      <td>...</td>\n",
              "      <td>False</td>\n",
              "      <td>False</td>\n",
              "      <td>True</td>\n",
              "      <td>False</td>\n",
              "      <td>True</td>\n",
              "      <td>False</td>\n",
              "      <td>False</td>\n",
              "      <td>False</td>\n",
              "      <td>False</td>\n",
              "      <td>True</td>\n",
              "    </tr>\n",
              "    <tr>\n",
              "      <th>4</th>\n",
              "      <td>U_00005</td>\n",
              "      <td>2021-01-01 04:00:00</td>\n",
              "      <td>21</td>\n",
              "      <td>1.05</td>\n",
              "      <td>0.0168</td>\n",
              "      <td>0.807389</td>\n",
              "      <td>High</td>\n",
              "      <td>21.853590</td>\n",
              "      <td>17.673261</td>\n",
              "      <td>3422.381447</td>\n",
              "      <td>...</td>\n",
              "      <td>False</td>\n",
              "      <td>True</td>\n",
              "      <td>False</td>\n",
              "      <td>False</td>\n",
              "      <td>True</td>\n",
              "      <td>False</td>\n",
              "      <td>False</td>\n",
              "      <td>True</td>\n",
              "      <td>False</td>\n",
              "      <td>False</td>\n",
              "    </tr>\n",
              "    <tr>\n",
              "      <th>...</th>\n",
              "      <td>...</td>\n",
              "      <td>...</td>\n",
              "      <td>...</td>\n",
              "      <td>...</td>\n",
              "      <td>...</td>\n",
              "      <td>...</td>\n",
              "      <td>...</td>\n",
              "      <td>...</td>\n",
              "      <td>...</td>\n",
              "      <td>...</td>\n",
              "      <td>...</td>\n",
              "      <td>...</td>\n",
              "      <td>...</td>\n",
              "      <td>...</td>\n",
              "      <td>...</td>\n",
              "      <td>...</td>\n",
              "      <td>...</td>\n",
              "      <td>...</td>\n",
              "      <td>...</td>\n",
              "      <td>...</td>\n",
              "      <td>...</td>\n",
              "    </tr>\n",
              "    <tr>\n",
              "      <th>9995</th>\n",
              "      <td>U_09996</td>\n",
              "      <td>2022-02-21 11:00:00</td>\n",
              "      <td>12443</td>\n",
              "      <td>622.15</td>\n",
              "      <td>9.9544</td>\n",
              "      <td>0.000000</td>\n",
              "      <td>unknown</td>\n",
              "      <td>34.428771</td>\n",
              "      <td>66.802901</td>\n",
              "      <td>4736.969993</td>\n",
              "      <td>...</td>\n",
              "      <td>False</td>\n",
              "      <td>False</td>\n",
              "      <td>True</td>\n",
              "      <td>False</td>\n",
              "      <td>False</td>\n",
              "      <td>True</td>\n",
              "      <td>False</td>\n",
              "      <td>True</td>\n",
              "      <td>False</td>\n",
              "      <td>False</td>\n",
              "    </tr>\n",
              "    <tr>\n",
              "      <th>9996</th>\n",
              "      <td>U_09997</td>\n",
              "      <td>2022-02-21 12:00:00</td>\n",
              "      <td>4492</td>\n",
              "      <td>224.60</td>\n",
              "      <td>3.5936</td>\n",
              "      <td>0.592288</td>\n",
              "      <td>High</td>\n",
              "      <td>32.068240</td>\n",
              "      <td>62.079895</td>\n",
              "      <td>3763.910549</td>\n",
              "      <td>...</td>\n",
              "      <td>False</td>\n",
              "      <td>True</td>\n",
              "      <td>False</td>\n",
              "      <td>True</td>\n",
              "      <td>False</td>\n",
              "      <td>False</td>\n",
              "      <td>False</td>\n",
              "      <td>False</td>\n",
              "      <td>True</td>\n",
              "      <td>False</td>\n",
              "    </tr>\n",
              "    <tr>\n",
              "      <th>9997</th>\n",
              "      <td>U_09998</td>\n",
              "      <td>2022-02-21 13:00:00</td>\n",
              "      <td>4081</td>\n",
              "      <td>204.05</td>\n",
              "      <td>3.2648</td>\n",
              "      <td>0.888462</td>\n",
              "      <td>Moderate</td>\n",
              "      <td>38.776620</td>\n",
              "      <td>85.657028</td>\n",
              "      <td>2726.024512</td>\n",
              "      <td>...</td>\n",
              "      <td>False</td>\n",
              "      <td>True</td>\n",
              "      <td>False</td>\n",
              "      <td>False</td>\n",
              "      <td>False</td>\n",
              "      <td>False</td>\n",
              "      <td>True</td>\n",
              "      <td>False</td>\n",
              "      <td>False</td>\n",
              "      <td>True</td>\n",
              "    </tr>\n",
              "    <tr>\n",
              "      <th>9998</th>\n",
              "      <td>U_09999</td>\n",
              "      <td>2022-02-21 14:00:00</td>\n",
              "      <td>10319</td>\n",
              "      <td>515.95</td>\n",
              "      <td>8.2552</td>\n",
              "      <td>0.922524</td>\n",
              "      <td>Low</td>\n",
              "      <td>34.319393</td>\n",
              "      <td>83.703078</td>\n",
              "      <td>2391.196197</td>\n",
              "      <td>...</td>\n",
              "      <td>True</td>\n",
              "      <td>False</td>\n",
              "      <td>False</td>\n",
              "      <td>False</td>\n",
              "      <td>True</td>\n",
              "      <td>False</td>\n",
              "      <td>False</td>\n",
              "      <td>False</td>\n",
              "      <td>False</td>\n",
              "      <td>True</td>\n",
              "    </tr>\n",
              "    <tr>\n",
              "      <th>9999</th>\n",
              "      <td>U_10000</td>\n",
              "      <td>2022-02-21 15:00:00</td>\n",
              "      <td>7595</td>\n",
              "      <td>379.75</td>\n",
              "      <td>6.0760</td>\n",
              "      <td>1.753820</td>\n",
              "      <td>High</td>\n",
              "      <td>40.321344</td>\n",
              "      <td>60.815054</td>\n",
              "      <td>4490.199248</td>\n",
              "      <td>...</td>\n",
              "      <td>True</td>\n",
              "      <td>False</td>\n",
              "      <td>False</td>\n",
              "      <td>False</td>\n",
              "      <td>False</td>\n",
              "      <td>True</td>\n",
              "      <td>False</td>\n",
              "      <td>True</td>\n",
              "      <td>False</td>\n",
              "      <td>False</td>\n",
              "    </tr>\n",
              "  </tbody>\n",
              "</table>\n",
              "<p>10000 rows × 51 columns</p>\n",
              "</div>\n",
              "    <div class=\"colab-df-buttons\">\n",
              "\n",
              "  <div class=\"colab-df-container\">\n",
              "    <button class=\"colab-df-convert\" onclick=\"convertToInteractive('df-55ab9b9f-fd63-45d9-8f6f-d9ae822fec02')\"\n",
              "            title=\"Convert this dataframe to an interactive table.\"\n",
              "            style=\"display:none;\">\n",
              "\n",
              "  <svg xmlns=\"http://www.w3.org/2000/svg\" height=\"24px\" viewBox=\"0 -960 960 960\">\n",
              "    <path d=\"M120-120v-720h720v720H120Zm60-500h600v-160H180v160Zm220 220h160v-160H400v160Zm0 220h160v-160H400v160ZM180-400h160v-160H180v160Zm440 0h160v-160H620v160ZM180-180h160v-160H180v160Zm440 0h160v-160H620v160Z\"/>\n",
              "  </svg>\n",
              "    </button>\n",
              "\n",
              "  <style>\n",
              "    .colab-df-container {\n",
              "      display:flex;\n",
              "      gap: 12px;\n",
              "    }\n",
              "\n",
              "    .colab-df-convert {\n",
              "      background-color: #E8F0FE;\n",
              "      border: none;\n",
              "      border-radius: 50%;\n",
              "      cursor: pointer;\n",
              "      display: none;\n",
              "      fill: #1967D2;\n",
              "      height: 32px;\n",
              "      padding: 0 0 0 0;\n",
              "      width: 32px;\n",
              "    }\n",
              "\n",
              "    .colab-df-convert:hover {\n",
              "      background-color: #E2EBFA;\n",
              "      box-shadow: 0px 1px 2px rgba(60, 64, 67, 0.3), 0px 1px 3px 1px rgba(60, 64, 67, 0.15);\n",
              "      fill: #174EA6;\n",
              "    }\n",
              "\n",
              "    .colab-df-buttons div {\n",
              "      margin-bottom: 4px;\n",
              "    }\n",
              "\n",
              "    [theme=dark] .colab-df-convert {\n",
              "      background-color: #3B4455;\n",
              "      fill: #D2E3FC;\n",
              "    }\n",
              "\n",
              "    [theme=dark] .colab-df-convert:hover {\n",
              "      background-color: #434B5C;\n",
              "      box-shadow: 0px 1px 3px 1px rgba(0, 0, 0, 0.15);\n",
              "      filter: drop-shadow(0px 1px 2px rgba(0, 0, 0, 0.3));\n",
              "      fill: #FFFFFF;\n",
              "    }\n",
              "  </style>\n",
              "\n",
              "    <script>\n",
              "      const buttonEl =\n",
              "        document.querySelector('#df-55ab9b9f-fd63-45d9-8f6f-d9ae822fec02 button.colab-df-convert');\n",
              "      buttonEl.style.display =\n",
              "        google.colab.kernel.accessAllowed ? 'block' : 'none';\n",
              "\n",
              "      async function convertToInteractive(key) {\n",
              "        const element = document.querySelector('#df-55ab9b9f-fd63-45d9-8f6f-d9ae822fec02');\n",
              "        const dataTable =\n",
              "          await google.colab.kernel.invokeFunction('convertToInteractive',\n",
              "                                                    [key], {});\n",
              "        if (!dataTable) return;\n",
              "\n",
              "        const docLinkHtml = 'Like what you see? Visit the ' +\n",
              "          '<a target=\"_blank\" href=https://colab.research.google.com/notebooks/data_table.ipynb>data table notebook</a>'\n",
              "          + ' to learn more about interactive tables.';\n",
              "        element.innerHTML = '';\n",
              "        dataTable['output_type'] = 'display_data';\n",
              "        await google.colab.output.renderOutput(dataTable, element);\n",
              "        const docLink = document.createElement('div');\n",
              "        docLink.innerHTML = docLinkHtml;\n",
              "        element.appendChild(docLink);\n",
              "      }\n",
              "    </script>\n",
              "  </div>\n",
              "\n",
              "\n",
              "<div id=\"df-b6c960f1-80ff-440c-a9d2-5418162f541e\">\n",
              "  <button class=\"colab-df-quickchart\" onclick=\"quickchart('df-b6c960f1-80ff-440c-a9d2-5418162f541e')\"\n",
              "            title=\"Suggest charts\"\n",
              "            style=\"display:none;\">\n",
              "\n",
              "<svg xmlns=\"http://www.w3.org/2000/svg\" height=\"24px\"viewBox=\"0 0 24 24\"\n",
              "     width=\"24px\">\n",
              "    <g>\n",
              "        <path d=\"M19 3H5c-1.1 0-2 .9-2 2v14c0 1.1.9 2 2 2h14c1.1 0 2-.9 2-2V5c0-1.1-.9-2-2-2zM9 17H7v-7h2v7zm4 0h-2V7h2v10zm4 0h-2v-4h2v4z\"/>\n",
              "    </g>\n",
              "</svg>\n",
              "  </button>\n",
              "\n",
              "<style>\n",
              "  .colab-df-quickchart {\n",
              "      --bg-color: #E8F0FE;\n",
              "      --fill-color: #1967D2;\n",
              "      --hover-bg-color: #E2EBFA;\n",
              "      --hover-fill-color: #174EA6;\n",
              "      --disabled-fill-color: #AAA;\n",
              "      --disabled-bg-color: #DDD;\n",
              "  }\n",
              "\n",
              "  [theme=dark] .colab-df-quickchart {\n",
              "      --bg-color: #3B4455;\n",
              "      --fill-color: #D2E3FC;\n",
              "      --hover-bg-color: #434B5C;\n",
              "      --hover-fill-color: #FFFFFF;\n",
              "      --disabled-bg-color: #3B4455;\n",
              "      --disabled-fill-color: #666;\n",
              "  }\n",
              "\n",
              "  .colab-df-quickchart {\n",
              "    background-color: var(--bg-color);\n",
              "    border: none;\n",
              "    border-radius: 50%;\n",
              "    cursor: pointer;\n",
              "    display: none;\n",
              "    fill: var(--fill-color);\n",
              "    height: 32px;\n",
              "    padding: 0;\n",
              "    width: 32px;\n",
              "  }\n",
              "\n",
              "  .colab-df-quickchart:hover {\n",
              "    background-color: var(--hover-bg-color);\n",
              "    box-shadow: 0 1px 2px rgba(60, 64, 67, 0.3), 0 1px 3px 1px rgba(60, 64, 67, 0.15);\n",
              "    fill: var(--button-hover-fill-color);\n",
              "  }\n",
              "\n",
              "  .colab-df-quickchart-complete:disabled,\n",
              "  .colab-df-quickchart-complete:disabled:hover {\n",
              "    background-color: var(--disabled-bg-color);\n",
              "    fill: var(--disabled-fill-color);\n",
              "    box-shadow: none;\n",
              "  }\n",
              "\n",
              "  .colab-df-spinner {\n",
              "    border: 2px solid var(--fill-color);\n",
              "    border-color: transparent;\n",
              "    border-bottom-color: var(--fill-color);\n",
              "    animation:\n",
              "      spin 1s steps(1) infinite;\n",
              "  }\n",
              "\n",
              "  @keyframes spin {\n",
              "    0% {\n",
              "      border-color: transparent;\n",
              "      border-bottom-color: var(--fill-color);\n",
              "      border-left-color: var(--fill-color);\n",
              "    }\n",
              "    20% {\n",
              "      border-color: transparent;\n",
              "      border-left-color: var(--fill-color);\n",
              "      border-top-color: var(--fill-color);\n",
              "    }\n",
              "    30% {\n",
              "      border-color: transparent;\n",
              "      border-left-color: var(--fill-color);\n",
              "      border-top-color: var(--fill-color);\n",
              "      border-right-color: var(--fill-color);\n",
              "    }\n",
              "    40% {\n",
              "      border-color: transparent;\n",
              "      border-right-color: var(--fill-color);\n",
              "      border-top-color: var(--fill-color);\n",
              "    }\n",
              "    60% {\n",
              "      border-color: transparent;\n",
              "      border-right-color: var(--fill-color);\n",
              "    }\n",
              "    80% {\n",
              "      border-color: transparent;\n",
              "      border-right-color: var(--fill-color);\n",
              "      border-bottom-color: var(--fill-color);\n",
              "    }\n",
              "    90% {\n",
              "      border-color: transparent;\n",
              "      border-bottom-color: var(--fill-color);\n",
              "    }\n",
              "  }\n",
              "</style>\n",
              "\n",
              "  <script>\n",
              "    async function quickchart(key) {\n",
              "      const quickchartButtonEl =\n",
              "        document.querySelector('#' + key + ' button');\n",
              "      quickchartButtonEl.disabled = true;  // To prevent multiple clicks.\n",
              "      quickchartButtonEl.classList.add('colab-df-spinner');\n",
              "      try {\n",
              "        const charts = await google.colab.kernel.invokeFunction(\n",
              "            'suggestCharts', [key], {});\n",
              "      } catch (error) {\n",
              "        console.error('Error during call to suggestCharts:', error);\n",
              "      }\n",
              "      quickchartButtonEl.classList.remove('colab-df-spinner');\n",
              "      quickchartButtonEl.classList.add('colab-df-quickchart-complete');\n",
              "    }\n",
              "    (() => {\n",
              "      let quickchartButtonEl =\n",
              "        document.querySelector('#df-b6c960f1-80ff-440c-a9d2-5418162f541e button');\n",
              "      quickchartButtonEl.style.display =\n",
              "        google.colab.kernel.accessAllowed ? 'block' : 'none';\n",
              "    })();\n",
              "  </script>\n",
              "</div>\n",
              "\n",
              "  <div id=\"id_2a4e7238-5f37-4df1-8892-9af6f7e41abc\">\n",
              "    <style>\n",
              "      .colab-df-generate {\n",
              "        background-color: #E8F0FE;\n",
              "        border: none;\n",
              "        border-radius: 50%;\n",
              "        cursor: pointer;\n",
              "        display: none;\n",
              "        fill: #1967D2;\n",
              "        height: 32px;\n",
              "        padding: 0 0 0 0;\n",
              "        width: 32px;\n",
              "      }\n",
              "\n",
              "      .colab-df-generate:hover {\n",
              "        background-color: #E2EBFA;\n",
              "        box-shadow: 0px 1px 2px rgba(60, 64, 67, 0.3), 0px 1px 3px 1px rgba(60, 64, 67, 0.15);\n",
              "        fill: #174EA6;\n",
              "      }\n",
              "\n",
              "      [theme=dark] .colab-df-generate {\n",
              "        background-color: #3B4455;\n",
              "        fill: #D2E3FC;\n",
              "      }\n",
              "\n",
              "      [theme=dark] .colab-df-generate:hover {\n",
              "        background-color: #434B5C;\n",
              "        box-shadow: 0px 1px 3px 1px rgba(0, 0, 0, 0.15);\n",
              "        filter: drop-shadow(0px 1px 2px rgba(0, 0, 0, 0.3));\n",
              "        fill: #FFFFFF;\n",
              "      }\n",
              "    </style>\n",
              "    <button class=\"colab-df-generate\" onclick=\"generateWithVariable('wearable_df')\"\n",
              "            title=\"Generate code using this dataframe.\"\n",
              "            style=\"display:none;\">\n",
              "\n",
              "  <svg xmlns=\"http://www.w3.org/2000/svg\" height=\"24px\"viewBox=\"0 0 24 24\"\n",
              "       width=\"24px\">\n",
              "    <path d=\"M7,19H8.4L18.45,9,17,7.55,7,17.6ZM5,21V16.75L18.45,3.32a2,2,0,0,1,2.83,0l1.4,1.43a1.91,1.91,0,0,1,.58,1.4,1.91,1.91,0,0,1-.58,1.4L9.25,21ZM18.45,9,17,7.55Zm-12,3A5.31,5.31,0,0,0,4.9,8.1,5.31,5.31,0,0,0,1,6.5,5.31,5.31,0,0,0,4.9,4.9,5.31,5.31,0,0,0,6.5,1,5.31,5.31,0,0,0,8.1,4.9,5.31,5.31,0,0,0,12,6.5,5.46,5.46,0,0,0,6.5,12Z\"/>\n",
              "  </svg>\n",
              "    </button>\n",
              "    <script>\n",
              "      (() => {\n",
              "      const buttonEl =\n",
              "        document.querySelector('#id_2a4e7238-5f37-4df1-8892-9af6f7e41abc button.colab-df-generate');\n",
              "      buttonEl.style.display =\n",
              "        google.colab.kernel.accessAllowed ? 'block' : 'none';\n",
              "\n",
              "      buttonEl.onclick = () => {\n",
              "        google.colab.notebook.generateWithVariable('wearable_df');\n",
              "      }\n",
              "      })();\n",
              "    </script>\n",
              "  </div>\n",
              "\n",
              "    </div>\n",
              "  </div>\n"
            ],
            "application/vnd.google.colaboratory.intrinsic+json": {
              "type": "dataframe",
              "variable_name": "wearable_df"
            }
          },
          "metadata": {},
          "execution_count": 41
        }
      ]
    },
    {
      "cell_type": "code",
      "source": [
        "column_types = wearable_df.dtypes\n",
        "print(\"Current Data Types:\\n\", column_types)"
      ],
      "metadata": {
        "colab": {
          "base_uri": "https://localhost:8080/"
        },
        "id": "QSdlxdlmfsSt",
        "outputId": "1dbdf2e1-7722-41cc-8c4e-00d439db5106"
      },
      "execution_count": 42,
      "outputs": [
        {
          "output_type": "stream",
          "name": "stdout",
          "text": [
            "Current Data Types:\n",
            " user_id                                    object\n",
            "timestamp                          datetime64[ns]\n",
            "steps                                       int64\n",
            "calories_burned                           float64\n",
            "distance_covered                          float64\n",
            "exercise_duration                         float64\n",
            "exercise_intensity                         object\n",
            "ambient_temperature                       float64\n",
            "battery_level                             float64\n",
            "altitude                                  float64\n",
            "uv_exposure                               float64\n",
            "notifications_received                      int64\n",
            "screen_time                               float64\n",
            "age                                         int64\n",
            "gender                                     object\n",
            "weight                                    float64\n",
            "height                                    float64\n",
            "medical_conditions                         object\n",
            "medication                                 object\n",
            "smoker                                     object\n",
            "alcohol_consumption                        object\n",
            "day_of_week                                object\n",
            "sleep_duration                            float64\n",
            "deep_sleep_duration                       float64\n",
            "rem_sleep_duration                        float64\n",
            "wakeups                                     int64\n",
            "snoring                                    object\n",
            "heart_rate                                  int64\n",
            "blood_oxygen_level                        float64\n",
            "ecg                                        object\n",
            "calories_intake                           float64\n",
            "water_intake                              float64\n",
            "skin_temperature                          float64\n",
            "body_fat_percentage                       float64\n",
            "muscle_mass                               float64\n",
            "health_score                              float64\n",
            "anomaly_flag                                int64\n",
            "activity_ratio                            float64\n",
            "sleep_efficiency                          float64\n",
            "heart_rate_variability                      int64\n",
            "exercise_type_Running                        bool\n",
            "exercise_type_Strength Training              bool\n",
            "exercise_type_Yoga                           bool\n",
            "exercise_type_unknown                        bool\n",
            "mood_Anxious                                 bool\n",
            "mood_Happy                                   bool\n",
            "mood_Neutral                                 bool\n",
            "mood_Sad                                     bool\n",
            "stress_level_High                            bool\n",
            "stress_level_Low                             bool\n",
            "stress_level_Moderate                        bool\n",
            "dtype: object\n"
          ]
        }
      ]
    },
    {
      "cell_type": "code",
      "source": [
        "# Drop unnecessary columns\n",
        "columns_to_drop = ['user_id', 'timestamp', 'anomaly_flag', 'exercise_type_unknown']\n",
        "\n",
        "wearable_df.drop(columns=[col for col in columns_to_drop if col in wearable_df.columns], inplace=True)"
      ],
      "metadata": {
        "id": "b4Yfqj-2jXLY"
      },
      "execution_count": 43,
      "outputs": []
    },
    {
      "cell_type": "code",
      "source": [
        "categorical_columns = [\n",
        "    'exercise_intensity', 'gender', 'medical_conditions',\n",
        "    'medication', 'smoker', 'alcohol_consumption', 'day_of_week',\n",
        "    'snoring', 'ecg'\n",
        "]"
      ],
      "metadata": {
        "id": "ztSwcENFkAdu"
      },
      "execution_count": 44,
      "outputs": []
    },
    {
      "cell_type": "code",
      "source": [
        "if not all(col in wearable_df.columns for col in categorical_cols):\n",
        "    print(\"Warning: Some categorical columns are missing!\")"
      ],
      "metadata": {
        "colab": {
          "base_uri": "https://localhost:8080/"
        },
        "id": "O1PNzqFFkE2e",
        "outputId": "7341c6e4-bb48-4369-b514-ba8e91b0be54"
      },
      "execution_count": 45,
      "outputs": [
        {
          "output_type": "stream",
          "name": "stdout",
          "text": [
            "Warning: Some categorical columns are missing!\n"
          ]
        }
      ]
    },
    {
      "cell_type": "code",
      "source": [
        "# Find missing categorical columns\n",
        "missing_categorical = [col for col in categorical_columns if col not in wearable_df.columns]\n",
        "print(\"Missing Categorical Columns:\", missing_categorical)\n"
      ],
      "metadata": {
        "id": "wGwyhUPgkPmW",
        "colab": {
          "base_uri": "https://localhost:8080/"
        },
        "outputId": "25114e75-5bad-4833-9696-b1f3d40f93f2"
      },
      "execution_count": 46,
      "outputs": [
        {
          "output_type": "stream",
          "name": "stdout",
          "text": [
            "Missing Categorical Columns: []\n"
          ]
        }
      ]
    },
    {
      "cell_type": "code",
      "source": [
        "# Apply One-Hot Encoding to categorical columns\n",
        "wearable_df = pd.get_dummies(wearable_df, columns=categorical_columns, drop_first=True)"
      ],
      "metadata": {
        "id": "hCHAa_p7V0tz"
      },
      "execution_count": 47,
      "outputs": []
    },
    {
      "cell_type": "code",
      "source": [
        "from sklearn.preprocessing import StandardScaler\n",
        "\n",
        "# Identify numeric columns\n",
        "numeric_cols = wearable_df.select_dtypes(include=['float64', 'int64']).columns.tolist()\n",
        "\n",
        "# Initialize scaler\n",
        "scaler = StandardScaler()\n",
        "\n",
        "# Apply scaling\n",
        "wearable_df[numeric_cols] = scaler.fit_transform(wearable_df[numeric_cols])\n",
        "\n",
        "print(\" Numerical features scaled.\")\n"
      ],
      "metadata": {
        "colab": {
          "base_uri": "https://localhost:8080/"
        },
        "id": "WNceWQMuWl8M",
        "outputId": "513909d4-91e4-4c80-f35a-4d0f2dbf5574"
      },
      "execution_count": 48,
      "outputs": [
        {
          "output_type": "stream",
          "name": "stdout",
          "text": [
            " Numerical features scaled.\n"
          ]
        }
      ]
    },
    {
      "cell_type": "code",
      "source": [
        "# Check if numerical columns are normalized (mean ≈ 0, std ≈ 1)\n",
        "normalized_summary = wearable_df.describe().T[['mean', 'std']]\n",
        "print(\"Normalization Check:\\n\", normalized_summary)\n",
        "\n",
        "# Check if categorical columns are correctly encoded (should contain only 0s and 1s)\n",
        "categorical_summary = wearable_df.select_dtypes(include=['uint8', 'bool']).sum()\n",
        "print(\"\\nCategorical Encoding Check (Unique Values Count per Column):\\n\", categorical_summary)\n"
      ],
      "metadata": {
        "colab": {
          "base_uri": "https://localhost:8080/"
        },
        "id": "N9eMCRotWrWU",
        "outputId": "22cf725f-652e-4d1f-d4b4-1f838937496d"
      },
      "execution_count": 49,
      "outputs": [
        {
          "output_type": "stream",
          "name": "stdout",
          "text": [
            "Normalization Check:\n",
            "                                 mean           std\n",
            "steps                  -3.197442e-17  1.000050e+00\n",
            "calories_burned        -1.065814e-18  1.000050e+00\n",
            "distance_covered       -1.755041e-16  1.000050e+00\n",
            "exercise_duration      -9.769963e-17  1.000050e+00\n",
            "ambient_temperature     9.094947e-17  1.000050e+00\n",
            "battery_level          -1.421085e-17  1.000050e+00\n",
            "altitude               -5.986323e-17  1.000050e+00\n",
            "uv_exposure            -2.273737e-17  1.000050e+00\n",
            "notifications_received -1.094236e-16  1.000050e+00\n",
            "screen_time            -1.140421e-16  1.000050e+00\n",
            "age                    -6.039613e-17  1.000050e+00\n",
            "weight                 -2.160050e-16  1.000050e+00\n",
            "height                 -1.818989e-16  1.000050e+00\n",
            "sleep_duration         -1.939782e-16  1.000050e+00\n",
            "deep_sleep_duration     1.218581e-16  1.000050e+00\n",
            "rem_sleep_duration     -6.963319e-17  1.000050e+00\n",
            "wakeups                -3.410605e-17  1.000050e+00\n",
            "heart_rate             -9.183765e-17  1.000050e+00\n",
            "blood_oxygen_level      1.355716e-15  1.000050e+00\n",
            "calories_intake         1.250555e-16  1.000050e+00\n",
            "water_intake            4.941825e-16  1.000050e+00\n",
            "skin_temperature       -2.994227e-15  1.000050e+00\n",
            "body_fat_percentage     1.385558e-16  1.000050e+00\n",
            "muscle_mass            -7.247536e-17  1.000050e+00\n",
            "health_score            1.406875e-16  1.000050e+00\n",
            "activity_ratio         -7.176482e-16  1.461426e-15\n",
            "sleep_efficiency        2.565059e-16  1.000050e+00\n",
            "heart_rate_variability  0.000000e+00  0.000000e+00\n",
            "\n",
            "Categorical Encoding Check (Unique Values Count per Column):\n",
            " exercise_type_Running              2466\n",
            "exercise_type_Strength Training    2455\n",
            "exercise_type_Yoga                 2478\n",
            "mood_Anxious                       2542\n",
            "mood_Happy                         2448\n",
            "mood_Neutral                       2495\n",
            "mood_Sad                           2515\n",
            "stress_level_High                  3344\n",
            "stress_level_Low                   3370\n",
            "stress_level_Moderate              3286\n",
            "exercise_intensity_Low             2477\n",
            "exercise_intensity_Moderate        2490\n",
            "exercise_intensity_unknown         2601\n",
            "gender_Male                        3309\n",
            "gender_Other                       3328\n",
            "medical_conditions_Hypertension    3337\n",
            "medical_conditions_unknown         3304\n",
            "medication_Yes                     4985\n",
            "smoker_Yes                         4995\n",
            "alcohol_consumption_Moderate       3355\n",
            "alcohol_consumption_unknown        3360\n",
            "day_of_week_Monday                 1432\n",
            "day_of_week_Saturday               1440\n",
            "day_of_week_Sunday                 1440\n",
            "day_of_week_Thursday               1416\n",
            "day_of_week_Tuesday                1416\n",
            "day_of_week_Wednesday              1416\n",
            "snoring_Yes                        4975\n",
            "ecg_Normal                         5022\n",
            "dtype: int64\n"
          ]
        }
      ]
    },
    {
      "cell_type": "code",
      "source": [
        "# Identify constant or low-variance columns\n",
        "#low_variance_cols = [col for col in wearable_df.columns if wearable_df[col].std() == 0]\n",
        "\n",
        "# Drop them from the dataset\n",
        "#wearable_df.drop(columns=low_variance_cols, inplace=True)\n",
        "\n",
        "#print(f\"✅ Dropped low-variance columns: {low_variance_cols}\")"
      ],
      "metadata": {
        "id": "TitDD3P5W6cr"
      },
      "execution_count": null,
      "outputs": []
    },
    {
      "cell_type": "code",
      "source": [
        "wearable_df.columns"
      ],
      "metadata": {
        "colab": {
          "base_uri": "https://localhost:8080/"
        },
        "id": "KHJgh6jDXh72",
        "outputId": "8724c8d5-a410-4dbc-9e2b-d0eb8b0531a9"
      },
      "execution_count": 50,
      "outputs": [
        {
          "output_type": "execute_result",
          "data": {
            "text/plain": [
              "Index(['steps', 'calories_burned', 'distance_covered', 'exercise_duration',\n",
              "       'ambient_temperature', 'battery_level', 'altitude', 'uv_exposure',\n",
              "       'notifications_received', 'screen_time', 'age', 'weight', 'height',\n",
              "       'sleep_duration', 'deep_sleep_duration', 'rem_sleep_duration',\n",
              "       'wakeups', 'heart_rate', 'blood_oxygen_level', 'calories_intake',\n",
              "       'water_intake', 'skin_temperature', 'body_fat_percentage',\n",
              "       'muscle_mass', 'health_score', 'activity_ratio', 'sleep_efficiency',\n",
              "       'heart_rate_variability', 'exercise_type_Running',\n",
              "       'exercise_type_Strength Training', 'exercise_type_Yoga', 'mood_Anxious',\n",
              "       'mood_Happy', 'mood_Neutral', 'mood_Sad', 'stress_level_High',\n",
              "       'stress_level_Low', 'stress_level_Moderate', 'exercise_intensity_Low',\n",
              "       'exercise_intensity_Moderate', 'exercise_intensity_unknown',\n",
              "       'gender_Male', 'gender_Other', 'medical_conditions_Hypertension',\n",
              "       'medical_conditions_unknown', 'medication_Yes', 'smoker_Yes',\n",
              "       'alcohol_consumption_Moderate', 'alcohol_consumption_unknown',\n",
              "       'day_of_week_Monday', 'day_of_week_Saturday', 'day_of_week_Sunday',\n",
              "       'day_of_week_Thursday', 'day_of_week_Tuesday', 'day_of_week_Wednesday',\n",
              "       'snoring_Yes', 'ecg_Normal'],\n",
              "      dtype='object')"
            ]
          },
          "metadata": {},
          "execution_count": 50
        }
      ]
    },
    {
      "cell_type": "code",
      "source": [
        "import pandas as pd\n",
        "import seaborn as sns\n",
        "import matplotlib.pyplot as plt\n",
        "\n",
        "\n",
        "\n",
        "# Calculate correlation with health_score\n",
        "correlation = wearable_df.corr()['health_score'].sort_values(ascending=False)\n",
        "\n",
        "# Display top correlated features\n",
        "print(\"Top Features Correlated with Health Score:\\n\", correlation.head(15))\n",
        "\n",
        "# Plot correlation heatmap for top 15 features\n",
        "plt.figure(figsize=(10,6))\n",
        "sns.heatmap(wearable_df[correlation.index[:15]].corr(), annot=True, cmap=\"coolwarm\", fmt=\".2f\")\n",
        "plt.title(\"Correlation Heatmap of Top Features\")\n",
        "plt.show()\n"
      ],
      "metadata": {
        "colab": {
          "base_uri": "https://localhost:8080/",
          "height": 1000
        },
        "id": "Ycidq8k_YOru",
        "outputId": "6e11ae7b-cb71-4c20-8fa9-b605385d0e96"
      },
      "execution_count": 51,
      "outputs": [
        {
          "output_type": "stream",
          "name": "stdout",
          "text": [
            "Top Features Correlated with Health Score:\n",
            " health_score                       1.000000\n",
            "blood_oxygen_level                 0.838825\n",
            "sleep_duration                     0.452571\n",
            "rem_sleep_duration                 0.197033\n",
            "deep_sleep_duration                0.169706\n",
            "exercise_duration                  0.167870\n",
            "ecg_Normal                         0.129457\n",
            "alcohol_consumption_unknown        0.097101\n",
            "stress_level_Low                   0.091366\n",
            "exercise_intensity_Moderate        0.052341\n",
            "exercise_type_Strength Training    0.048325\n",
            "exercise_type_Yoga                 0.047922\n",
            "exercise_intensity_Low             0.042603\n",
            "exercise_type_Running              0.041131\n",
            "uv_exposure                        0.019779\n",
            "Name: health_score, dtype: float64\n"
          ]
        },
        {
          "output_type": "display_data",
          "data": {
            "text/plain": [
              "<Figure size 1000x600 with 2 Axes>"
            ],
            "image/png": "[encoded data removed]"
          },
          "metadata": {}
        }
      ]
    },
    {
      "cell_type": "code",
      "source": [
        "# Define selected features\n",
        "selected_features = [\n",
        "    'blood_oxygen_level', 'sleep_duration', 'rem_sleep_duration',\n",
        "    'deep_sleep_duration', 'exercise_duration', 'ecg_Normal',\n",
        "    'alcohol_consumption_unknown', 'stress_level_Low', 'exercise_intensity_Moderate'\n",
        "]\n",
        "\n",
        "# Keep only selected features and target\n",
        "wearable_selected = wearable_df[selected_features + ['health_score']]\n",
        "\n",
        "print(\"Dataset filtered to include only top predictive features.\")\n"
      ],
      "metadata": {
        "colab": {
          "base_uri": "https://localhost:8080/"
        },
        "id": "-1W8Shl3YhYs",
        "outputId": "062c4638-b7b8-405b-9434-742d867af413"
      },
      "execution_count": 52,
      "outputs": [
        {
          "output_type": "stream",
          "name": "stdout",
          "text": [
            "Dataset filtered to include only top predictive features.\n"
          ]
        }
      ]
    },
    {
      "cell_type": "code",
      "source": [
        "wearable_selected"
      ],
      "metadata": {
        "colab": {
          "base_uri": "https://localhost:8080/",
          "height": 443
        },
        "id": "mBoS6TgnawFg",
        "outputId": "fbfd5755-dfb2-4355-c630-7f41eb971494"
      },
      "execution_count": 53,
      "outputs": [
        {
          "output_type": "execute_result",
          "data": {
            "text/plain": [
              "      blood_oxygen_level  sleep_duration  rem_sleep_duration  \\\n",
              "0              -1.520226       -0.285949            0.210325   \n",
              "1               0.520073        0.292320            1.563989   \n",
              "2               1.283347        0.903238           -0.676796   \n",
              "3              -1.272424       -1.490832           -0.696644   \n",
              "4               0.191962       -0.579210           -0.795061   \n",
              "...                  ...             ...                 ...   \n",
              "9995           -1.056673        0.756228            1.918333   \n",
              "9996           -0.770027       -0.955703           -1.281786   \n",
              "9997            0.140214        1.152781            1.443643   \n",
              "9998            1.549547       -1.468149            0.184040   \n",
              "9999           -1.627229        0.272086            0.351109   \n",
              "\n",
              "      deep_sleep_duration  exercise_duration  ecg_Normal  \\\n",
              "0               -0.445525           0.446333       False   \n",
              "1               -1.342050           0.686395        True   \n",
              "2                1.419860          -0.182574       False   \n",
              "3               -0.510952          -1.398371        True   \n",
              "4                0.331346          -0.177232        True   \n",
              "...                   ...                ...         ...   \n",
              "9995            -1.322052          -1.398371       False   \n",
              "9996             0.516338          -0.502562        True   \n",
              "9997            -0.519284          -0.054612       False   \n",
              "9998            -1.382311          -0.003096       False   \n",
              "9999            -0.133044           1.254202       False   \n",
              "\n",
              "      alcohol_consumption_unknown  stress_level_Low  \\\n",
              "0                           False             False   \n",
              "1                           False             False   \n",
              "2                           False              True   \n",
              "3                           False             False   \n",
              "4                           False             False   \n",
              "...                           ...               ...   \n",
              "9995                        False             False   \n",
              "9996                         True              True   \n",
              "9997                         True             False   \n",
              "9998                        False             False   \n",
              "9999                        False             False   \n",
              "\n",
              "      exercise_intensity_Moderate  health_score  \n",
              "0                           False     -1.330309  \n",
              "1                            True      0.820382  \n",
              "2                            True      1.589086  \n",
              "3                           False     -1.865674  \n",
              "4                           False     -0.402139  \n",
              "...                           ...           ...  \n",
              "9995                        False     -1.049830  \n",
              "9996                        False     -0.910036  \n",
              "9997                         True      0.767233  \n",
              "9998                        False      0.623188  \n",
              "9999                        False     -1.419195  \n",
              "\n",
              "[10000 rows x 10 columns]"
            ],
            "text/html": [
              "\n",
              "  <div id=\"df-261179a6-febe-4944-8859-7983f9275ea0\" class=\"colab-df-container\">\n",
              "    <div>\n",
              "<style scoped>\n",
              "    .dataframe tbody tr th:only-of-type {\n",
              "        vertical-align: middle;\n",
              "    }\n",
              "\n",
              "    .dataframe tbody tr th {\n",
              "        vertical-align: top;\n",
              "    }\n",
              "\n",
              "    .dataframe thead th {\n",
              "        text-align: right;\n",
              "    }\n",
              "</style>\n",
              "<table border=\"1\" class=\"dataframe\">\n",
              "  <thead>\n",
              "    <tr style=\"text-align: right;\">\n",
              "      <th></th>\n",
              "      <th>blood_oxygen_level</th>\n",
              "      <th>sleep_duration</th>\n",
              "      <th>rem_sleep_duration</th>\n",
              "      <th>deep_sleep_duration</th>\n",
              "      <th>exercise_duration</th>\n",
              "      <th>ecg_Normal</th>\n",
              "      <th>alcohol_consumption_unknown</th>\n",
              "      <th>stress_level_Low</th>\n",
              "      <th>exercise_intensity_Moderate</th>\n",
              "      <th>health_score</th>\n",
              "    </tr>\n",
              "  </thead>\n",
              "  <tbody>\n",
              "    <tr>\n",
              "      <th>0</th>\n",
              "      <td>-1.520226</td>\n",
              "      <td>-0.285949</td>\n",
              "      <td>0.210325</td>\n",
              "      <td>-0.445525</td>\n",
              "      <td>0.446333</td>\n",
              "      <td>False</td>\n",
              "      <td>False</td>\n",
              "      <td>False</td>\n",
              "      <td>False</td>\n",
              "      <td>-1.330309</td>\n",
              "    </tr>\n",
              "    <tr>\n",
              "      <th>1</th>\n",
              "      <td>0.520073</td>\n",
              "      <td>0.292320</td>\n",
              "      <td>1.563989</td>\n",
              "      <td>-1.342050</td>\n",
              "      <td>0.686395</td>\n",
              "      <td>True</td>\n",
              "      <td>False</td>\n",
              "      <td>False</td>\n",
              "      <td>True</td>\n",
              "      <td>0.820382</td>\n",
              "    </tr>\n",
              "    <tr>\n",
              "      <th>2</th>\n",
              "      <td>1.283347</td>\n",
              "      <td>0.903238</td>\n",
              "      <td>-0.676796</td>\n",
              "      <td>1.419860</td>\n",
              "      <td>-0.182574</td>\n",
              "      <td>False</td>\n",
              "      <td>False</td>\n",
              "      <td>True</td>\n",
              "      <td>True</td>\n",
              "      <td>1.589086</td>\n",
              "    </tr>\n",
              "    <tr>\n",
              "      <th>3</th>\n",
              "      <td>-1.272424</td>\n",
              "      <td>-1.490832</td>\n",
              "      <td>-0.696644</td>\n",
              "      <td>-0.510952</td>\n",
              "      <td>-1.398371</td>\n",
              "      <td>True</td>\n",
              "      <td>False</td>\n",
              "      <td>False</td>\n",
              "      <td>False</td>\n",
              "      <td>-1.865674</td>\n",
              "    </tr>\n",
              "    <tr>\n",
              "      <th>4</th>\n",
              "      <td>0.191962</td>\n",
              "      <td>-0.579210</td>\n",
              "      <td>-0.795061</td>\n",
              "      <td>0.331346</td>\n",
              "      <td>-0.177232</td>\n",
              "      <td>True</td>\n",
              "      <td>False</td>\n",
              "      <td>False</td>\n",
              "      <td>False</td>\n",
              "      <td>-0.402139</td>\n",
              "    </tr>\n",
              "    <tr>\n",
              "      <th>...</th>\n",
              "      <td>...</td>\n",
              "      <td>...</td>\n",
              "      <td>...</td>\n",
              "      <td>...</td>\n",
              "      <td>...</td>\n",
              "      <td>...</td>\n",
              "      <td>...</td>\n",
              "      <td>...</td>\n",
              "      <td>...</td>\n",
              "      <td>...</td>\n",
              "    </tr>\n",
              "    <tr>\n",
              "      <th>9995</th>\n",
              "      <td>-1.056673</td>\n",
              "      <td>0.756228</td>\n",
              "      <td>1.918333</td>\n",
              "      <td>-1.322052</td>\n",
              "      <td>-1.398371</td>\n",
              "      <td>False</td>\n",
              "      <td>False</td>\n",
              "      <td>False</td>\n",
              "      <td>False</td>\n",
              "      <td>-1.049830</td>\n",
              "    </tr>\n",
              "    <tr>\n",
              "      <th>9996</th>\n",
              "      <td>-0.770027</td>\n",
              "      <td>-0.955703</td>\n",
              "      <td>-1.281786</td>\n",
              "      <td>0.516338</td>\n",
              "      <td>-0.502562</td>\n",
              "      <td>True</td>\n",
              "      <td>True</td>\n",
              "      <td>True</td>\n",
              "      <td>False</td>\n",
              "      <td>-0.910036</td>\n",
              "    </tr>\n",
              "    <tr>\n",
              "      <th>9997</th>\n",
              "      <td>0.140214</td>\n",
              "      <td>1.152781</td>\n",
              "      <td>1.443643</td>\n",
              "      <td>-0.519284</td>\n",
              "      <td>-0.054612</td>\n",
              "      <td>False</td>\n",
              "      <td>True</td>\n",
              "      <td>False</td>\n",
              "      <td>True</td>\n",
              "      <td>0.767233</td>\n",
              "    </tr>\n",
              "    <tr>\n",
              "      <th>9998</th>\n",
              "      <td>1.549547</td>\n",
              "      <td>-1.468149</td>\n",
              "      <td>0.184040</td>\n",
              "      <td>-1.382311</td>\n",
              "      <td>-0.003096</td>\n",
              "      <td>False</td>\n",
              "      <td>False</td>\n",
              "      <td>False</td>\n",
              "      <td>False</td>\n",
              "      <td>0.623188</td>\n",
              "    </tr>\n",
              "    <tr>\n",
              "      <th>9999</th>\n",
              "      <td>-1.627229</td>\n",
              "      <td>0.272086</td>\n",
              "      <td>0.351109</td>\n",
              "      <td>-0.133044</td>\n",
              "      <td>1.254202</td>\n",
              "      <td>False</td>\n",
              "      <td>False</td>\n",
              "      <td>False</td>\n",
              "      <td>False</td>\n",
              "      <td>-1.419195</td>\n",
              "    </tr>\n",
              "  </tbody>\n",
              "</table>\n",
              "<p>10000 rows × 10 columns</p>\n",
              "</div>\n",
              "    <div class=\"colab-df-buttons\">\n",
              "\n",
              "  <div class=\"colab-df-container\">\n",
              "    <button class=\"colab-df-convert\" onclick=\"convertToInteractive('df-261179a6-febe-4944-8859-7983f9275ea0')\"\n",
              "            title=\"Convert this dataframe to an interactive table.\"\n",
              "            style=\"display:none;\">\n",
              "\n",
              "  <svg xmlns=\"http://www.w3.org/2000/svg\" height=\"24px\" viewBox=\"0 -960 960 960\">\n",
              "    <path d=\"M120-120v-720h720v720H120Zm60-500h600v-160H180v160Zm220 220h160v-160H400v160Zm0 220h160v-160H400v160ZM180-400h160v-160H180v160Zm440 0h160v-160H620v160ZM180-180h160v-160H180v160Zm440 0h160v-160H620v160Z\"/>\n",
              "  </svg>\n",
              "    </button>\n",
              "\n",
              "  <style>\n",
              "    .colab-df-container {\n",
              "      display:flex;\n",
              "      gap: 12px;\n",
              "    }\n",
              "\n",
              "    .colab-df-convert {\n",
              "      background-color: #E8F0FE;\n",
              "      border: none;\n",
              "      border-radius: 50%;\n",
              "      cursor: pointer;\n",
              "      display: none;\n",
              "      fill: #1967D2;\n",
              "      height: 32px;\n",
              "      padding: 0 0 0 0;\n",
              "      width: 32px;\n",
              "    }\n",
              "\n",
              "    .colab-df-convert:hover {\n",
              "      background-color: #E2EBFA;\n",
              "      box-shadow: 0px 1px 2px rgba(60, 64, 67, 0.3), 0px 1px 3px 1px rgba(60, 64, 67, 0.15);\n",
              "      fill: #174EA6;\n",
              "    }\n",
              "\n",
              "    .colab-df-buttons div {\n",
              "      margin-bottom: 4px;\n",
              "    }\n",
              "\n",
              "    [theme=dark] .colab-df-convert {\n",
              "      background-color: #3B4455;\n",
              "      fill: #D2E3FC;\n",
              "    }\n",
              "\n",
              "    [theme=dark] .colab-df-convert:hover {\n",
              "      background-color: #434B5C;\n",
              "      box-shadow: 0px 1px 3px 1px rgba(0, 0, 0, 0.15);\n",
              "      filter: drop-shadow(0px 1px 2px rgba(0, 0, 0, 0.3));\n",
              "      fill: #FFFFFF;\n",
              "    }\n",
              "  </style>\n",
              "\n",
              "    <script>\n",
              "      const buttonEl =\n",
              "        document.querySelector('#df-261179a6-febe-4944-8859-7983f9275ea0 button.colab-df-convert');\n",
              "      buttonEl.style.display =\n",
              "        google.colab.kernel.accessAllowed ? 'block' : 'none';\n",
              "\n",
              "      async function convertToInteractive(key) {\n",
              "        const element = document.querySelector('#df-261179a6-febe-4944-8859-7983f9275ea0');\n",
              "        const dataTable =\n",
              "          await google.colab.kernel.invokeFunction('convertToInteractive',\n",
              "                                                    [key], {});\n",
              "        if (!dataTable) return;\n",
              "\n",
              "        const docLinkHtml = 'Like what you see? Visit the ' +\n",
              "          '<a target=\"_blank\" href=https://colab.research.google.com/notebooks/data_table.ipynb>data table notebook</a>'\n",
              "          + ' to learn more about interactive tables.';\n",
              "        element.innerHTML = '';\n",
              "        dataTable['output_type'] = 'display_data';\n",
              "        await google.colab.output.renderOutput(dataTable, element);\n",
              "        const docLink = document.createElement('div');\n",
              "        docLink.innerHTML = docLinkHtml;\n",
              "        element.appendChild(docLink);\n",
              "      }\n",
              "    </script>\n",
              "  </div>\n",
              "\n",
              "\n",
              "<div id=\"df-3fc2cb8c-b946-4e3b-bc8c-d2c5c0fe98cd\">\n",
              "  <button class=\"colab-df-quickchart\" onclick=\"quickchart('df-3fc2cb8c-b946-4e3b-bc8c-d2c5c0fe98cd')\"\n",
              "            title=\"Suggest charts\"\n",
              "            style=\"display:none;\">\n",
              "\n",
              "<svg xmlns=\"http://www.w3.org/2000/svg\" height=\"24px\"viewBox=\"0 0 24 24\"\n",
              "     width=\"24px\">\n",
              "    <g>\n",
              "        <path d=\"M19 3H5c-1.1 0-2 .9-2 2v14c0 1.1.9 2 2 2h14c1.1 0 2-.9 2-2V5c0-1.1-.9-2-2-2zM9 17H7v-7h2v7zm4 0h-2V7h2v10zm4 0h-2v-4h2v4z\"/>\n",
              "    </g>\n",
              "</svg>\n",
              "  </button>\n",
              "\n",
              "<style>\n",
              "  .colab-df-quickchart {\n",
              "      --bg-color: #E8F0FE;\n",
              "      --fill-color: #1967D2;\n",
              "      --hover-bg-color: #E2EBFA;\n",
              "      --hover-fill-color: #174EA6;\n",
              "      --disabled-fill-color: #AAA;\n",
              "      --disabled-bg-color: #DDD;\n",
              "  }\n",
              "\n",
              "  [theme=dark] .colab-df-quickchart {\n",
              "      --bg-color: #3B4455;\n",
              "      --fill-color: #D2E3FC;\n",
              "      --hover-bg-color: #434B5C;\n",
              "      --hover-fill-color: #FFFFFF;\n",
              "      --disabled-bg-color: #3B4455;\n",
              "      --disabled-fill-color: #666;\n",
              "  }\n",
              "\n",
              "  .colab-df-quickchart {\n",
              "    background-color: var(--bg-color);\n",
              "    border: none;\n",
              "    border-radius: 50%;\n",
              "    cursor: pointer;\n",
              "    display: none;\n",
              "    fill: var(--fill-color);\n",
              "    height: 32px;\n",
              "    padding: 0;\n",
              "    width: 32px;\n",
              "  }\n",
              "\n",
              "  .colab-df-quickchart:hover {\n",
              "    background-color: var(--hover-bg-color);\n",
              "    box-shadow: 0 1px 2px rgba(60, 64, 67, 0.3), 0 1px 3px 1px rgba(60, 64, 67, 0.15);\n",
              "    fill: var(--button-hover-fill-color);\n",
              "  }\n",
              "\n",
              "  .colab-df-quickchart-complete:disabled,\n",
              "  .colab-df-quickchart-complete:disabled:hover {\n",
              "    background-color: var(--disabled-bg-color);\n",
              "    fill: var(--disabled-fill-color);\n",
              "    box-shadow: none;\n",
              "  }\n",
              "\n",
              "  .colab-df-spinner {\n",
              "    border: 2px solid var(--fill-color);\n",
              "    border-color: transparent;\n",
              "    border-bottom-color: var(--fill-color);\n",
              "    animation:\n",
              "      spin 1s steps(1) infinite;\n",
              "  }\n",
              "\n",
              "  @keyframes spin {\n",
              "    0% {\n",
              "      border-color: transparent;\n",
              "      border-bottom-color: var(--fill-color);\n",
              "      border-left-color: var(--fill-color);\n",
              "    }\n",
              "    20% {\n",
              "      border-color: transparent;\n",
              "      border-left-color: var(--fill-color);\n",
              "      border-top-color: var(--fill-color);\n",
              "    }\n",
              "    30% {\n",
              "      border-color: transparent;\n",
              "      border-left-color: var(--fill-color);\n",
              "      border-top-color: var(--fill-color);\n",
              "      border-right-color: var(--fill-color);\n",
              "    }\n",
              "    40% {\n",
              "      border-color: transparent;\n",
              "      border-right-color: var(--fill-color);\n",
              "      border-top-color: var(--fill-color);\n",
              "    }\n",
              "    60% {\n",
              "      border-color: transparent;\n",
              "      border-right-color: var(--fill-color);\n",
              "    }\n",
              "    80% {\n",
              "      border-color: transparent;\n",
              "      border-right-color: var(--fill-color);\n",
              "      border-bottom-color: var(--fill-color);\n",
              "    }\n",
              "    90% {\n",
              "      border-color: transparent;\n",
              "      border-bottom-color: var(--fill-color);\n",
              "    }\n",
              "  }\n",
              "</style>\n",
              "\n",
              "  <script>\n",
              "    async function quickchart(key) {\n",
              "      const quickchartButtonEl =\n",
              "        document.querySelector('#' + key + ' button');\n",
              "      quickchartButtonEl.disabled = true;  // To prevent multiple clicks.\n",
              "      quickchartButtonEl.classList.add('colab-df-spinner');\n",
              "      try {\n",
              "        const charts = await google.colab.kernel.invokeFunction(\n",
              "            'suggestCharts', [key], {});\n",
              "      } catch (error) {\n",
              "        console.error('Error during call to suggestCharts:', error);\n",
              "      }\n",
              "      quickchartButtonEl.classList.remove('colab-df-spinner');\n",
              "      quickchartButtonEl.classList.add('colab-df-quickchart-complete');\n",
              "    }\n",
              "    (() => {\n",
              "      let quickchartButtonEl =\n",
              "        document.querySelector('#df-3fc2cb8c-b946-4e3b-bc8c-d2c5c0fe98cd button');\n",
              "      quickchartButtonEl.style.display =\n",
              "        google.colab.kernel.accessAllowed ? 'block' : 'none';\n",
              "    })();\n",
              "  </script>\n",
              "</div>\n",
              "\n",
              "  <div id=\"id_70f60b62-db15-45ed-897b-6aca604d0b69\">\n",
              "    <style>\n",
              "      .colab-df-generate {\n",
              "        background-color: #E8F0FE;\n",
              "        border: none;\n",
              "        border-radius: 50%;\n",
              "        cursor: pointer;\n",
              "        display: none;\n",
              "        fill: #1967D2;\n",
              "        height: 32px;\n",
              "        padding: 0 0 0 0;\n",
              "        width: 32px;\n",
              "      }\n",
              "\n",
              "      .colab-df-generate:hover {\n",
              "        background-color: #E2EBFA;\n",
              "        box-shadow: 0px 1px 2px rgba(60, 64, 67, 0.3), 0px 1px 3px 1px rgba(60, 64, 67, 0.15);\n",
              "        fill: #174EA6;\n",
              "      }\n",
              "\n",
              "      [theme=dark] .colab-df-generate {\n",
              "        background-color: #3B4455;\n",
              "        fill: #D2E3FC;\n",
              "      }\n",
              "\n",
              "      [theme=dark] .colab-df-generate:hover {\n",
              "        background-color: #434B5C;\n",
              "        box-shadow: 0px 1px 3px 1px rgba(0, 0, 0, 0.15);\n",
              "        filter: drop-shadow(0px 1px 2px rgba(0, 0, 0, 0.3));\n",
              "        fill: #FFFFFF;\n",
              "      }\n",
              "    </style>\n",
              "    <button class=\"colab-df-generate\" onclick=\"generateWithVariable('wearable_selected')\"\n",
              "            title=\"Generate code using this dataframe.\"\n",
              "            style=\"display:none;\">\n",
              "\n",
              "  <svg xmlns=\"http://www.w3.org/2000/svg\" height=\"24px\"viewBox=\"0 0 24 24\"\n",
              "       width=\"24px\">\n",
              "    <path d=\"M7,19H8.4L18.45,9,17,7.55,7,17.6ZM5,21V16.75L18.45,3.32a2,2,0,0,1,2.83,0l1.4,1.43a1.91,1.91,0,0,1,.58,1.4,1.91,1.91,0,0,1-.58,1.4L9.25,21ZM18.45,9,17,7.55Zm-12,3A5.31,5.31,0,0,0,4.9,8.1,5.31,5.31,0,0,0,1,6.5,5.31,5.31,0,0,0,4.9,4.9,5.31,5.31,0,0,0,6.5,1,5.31,5.31,0,0,0,8.1,4.9,5.31,5.31,0,0,0,12,6.5,5.46,5.46,0,0,0,6.5,12Z\"/>\n",
              "  </svg>\n",
              "    </button>\n",
              "    <script>\n",
              "      (() => {\n",
              "      const buttonEl =\n",
              "        document.querySelector('#id_70f60b62-db15-45ed-897b-6aca604d0b69 button.colab-df-generate');\n",
              "      buttonEl.style.display =\n",
              "        google.colab.kernel.accessAllowed ? 'block' : 'none';\n",
              "\n",
              "      buttonEl.onclick = () => {\n",
              "        google.colab.notebook.generateWithVariable('wearable_selected');\n",
              "      }\n",
              "      })();\n",
              "    </script>\n",
              "  </div>\n",
              "\n",
              "    </div>\n",
              "  </div>\n"
            ],
            "application/vnd.google.colaboratory.intrinsic+json": {
              "type": "dataframe",
              "variable_name": "wearable_selected",
              "summary": "{\n  \"name\": \"wearable_selected\",\n  \"rows\": 10000,\n  \"fields\": [\n    {\n      \"column\": \"blood_oxygen_level\",\n      \"properties\": {\n        \"dtype\": \"number\",\n        \"std\": 1.0000500037503148,\n        \"min\": -1.7269350019814202,\n        \"max\": 1.7382072198295437,\n        \"num_unique_values\": 10000,\n        \"samples\": [\n          0.45796468537608004,\n          0.03678295278830337,\n          0.21697081985035138\n        ],\n        \"semantic_type\": \"\",\n        \"description\": \"\"\n      }\n    },\n    {\n      \"column\": \"sleep_duration\",\n      \"properties\": {\n        \"dtype\": \"number\",\n        \"std\": 1.000050003750316,\n        \"min\": -1.735835546576114,\n        \"max\": 1.7185995584718374,\n        \"num_unique_values\": 10000,\n        \"samples\": [\n          0.5993763669833714,\n          1.1672561071681096,\n          0.03403014881454576\n        ],\n        \"semantic_type\": \"\",\n        \"description\": \"\"\n      }\n    },\n    {\n      \"column\": \"rem_sleep_duration\",\n      \"properties\": {\n        \"dtype\": \"number\",\n        \"std\": 1.000050003750313,\n        \"min\": -1.522976579134777,\n        \"max\": 2.8645129882905285,\n        \"num_unique_values\": 10000,\n        \"samples\": [\n          -1.0523447399887274,\n          2.2004206802712276,\n          -1.306590478265963\n        ],\n        \"semantic_type\": \"\",\n        \"description\": \"\"\n      }\n    },\n    {\n      \"column\": \"deep_sleep_duration\",\n      \"properties\": {\n        \"dtype\": \"number\",\n        \"std\": 1.0000500037503128,\n        \"min\": -1.5174432711791166,\n        \"max\": 2.9073876440107234,\n        \"num_unique_values\": 10000,\n        \"samples\": [\n          1.5517056523059543,\n          -1.2721370117297484,\n          1.3479090890711196\n        ],\n        \"semantic_type\": \"\",\n        \"description\": \"\"\n      }\n    },\n    {\n      \"column\": \"exercise_duration\",\n      \"properties\": {\n        \"dtype\": \"number\",\n        \"std\": 1.0000500037503028,\n        \"min\": -1.3983710110545338,\n        \"max\": 1.6263930490380658,\n        \"num_unique_values\": 7400,\n        \"samples\": [\n          -0.01461384551708043,\n          -0.07969803315485503,\n          0.24344358403716646\n        ],\n        \"semantic_type\": \"\",\n        \"description\": \"\"\n      }\n    },\n    {\n      \"column\": \"ecg_Normal\",\n      \"properties\": {\n        \"dtype\": \"boolean\",\n        \"num_unique_values\": 2,\n        \"samples\": [\n          true,\n          false\n        ],\n        \"semantic_type\": \"\",\n        \"description\": \"\"\n      }\n    },\n    {\n      \"column\": \"alcohol_consumption_unknown\",\n      \"properties\": {\n        \"dtype\": \"boolean\",\n        \"num_unique_values\": 2,\n        \"samples\": [\n          true,\n          false\n        ],\n        \"semantic_type\": \"\",\n        \"description\": \"\"\n      }\n    },\n    {\n      \"column\": \"stress_level_Low\",\n      \"properties\": {\n        \"dtype\": \"boolean\",\n        \"num_unique_values\": 2,\n        \"samples\": [\n          true,\n          false\n        ],\n        \"semantic_type\": \"\",\n        \"description\": \"\"\n      }\n    },\n    {\n      \"column\": \"exercise_intensity_Moderate\",\n      \"properties\": {\n        \"dtype\": \"boolean\",\n        \"num_unique_values\": 2,\n        \"samples\": [\n          true,\n          false\n        ],\n        \"semantic_type\": \"\",\n        \"description\": \"\"\n      }\n    },\n    {\n      \"column\": \"health_score\",\n      \"properties\": {\n        \"dtype\": \"number\",\n        \"std\": 1.0000500037503135,\n        \"min\": -2.7892396612183505,\n        \"max\": 2.8237426977474693,\n        \"num_unique_values\": 10000,\n        \"samples\": [\n          0.4364999730961317,\n          0.9699252861183769\n        ],\n        \"semantic_type\": \"\",\n        \"description\": \"\"\n      }\n    }\n  ]\n}"
            }
          },
          "metadata": {},
          "execution_count": 53
        }
      ]
    },
    {
      "cell_type": "code",
      "source": [
        "from sklearn.model_selection import train_test_split\n",
        "\n",
        "# Define target variable: health_score\n",
        "X = wearable_selected.drop(columns=['health_score'])\n",
        "y = wearable_selected['health_score']\n",
        "\n",
        "# Split the dataset 80 20\n",
        "X_train, X_test, y_train, y_test = train_test_split(X, y, test_size=0.2, random_state=42)\n",
        "\n",
        "print(f\"Data split completed: {X_train.shape[0]} training samples, {X_test.shape[0]} testing samples.\")\n"
      ],
      "metadata": {
        "colab": {
          "base_uri": "https://localhost:8080/"
        },
        "id": "OWVAAdSXa0ju",
        "outputId": "ddef1b03-1f44-463c-d231-56ac723e23fb"
      },
      "execution_count": 54,
      "outputs": [
        {
          "output_type": "stream",
          "name": "stdout",
          "text": [
            "Data split completed: 8000 training samples, 2000 testing samples.\n"
          ]
        }
      ]
    },
    {
      "cell_type": "code",
      "source": [
        "from sklearn.ensemble import RandomForestRegressor\n",
        "from sklearn.metrics import mean_absolute_error, mean_squared_error, r2_score\n",
        "\n",
        "# Initialize Random Forest model\n",
        "rf_model = RandomForestRegressor(n_estimators=100, random_state=42)\n",
        "\n",
        "# Train the model\n",
        "rf_model.fit(X_train, y_train)\n",
        "\n",
        "# Make predictions on the test set\n",
        "y_pred = rf_model.predict(X_test)\n",
        "\n",
        "# Evaluate the model\n",
        "mae = mean_absolute_error(y_test, y_pred)\n",
        "mse = mean_squared_error(y_test, y_pred)\n",
        "r2 = r2_score(y_test, y_pred)\n",
        "\n",
        "print(f\" Model Training Complete!\")\n",
        "print(f\"MAE: {mae:.4f} | MSE: {mse:.4f} | R² Score: {r2:.4f}\")\n"
      ],
      "metadata": {
        "colab": {
          "base_uri": "https://localhost:8080/"
        },
        "id": "rYO5Yn0ObhJu",
        "outputId": "a2484d3d-df15-472d-fb35-56969ae10113"
      },
      "execution_count": 55,
      "outputs": [
        {
          "output_type": "stream",
          "name": "stdout",
          "text": [
            " Model Training Complete!\n",
            "MAE: 0.1580 | MSE: 0.0372 | R² Score: 0.9638\n"
          ]
        }
      ]
    },
    {
      "cell_type": "code",
      "source": [
        "# Install XGBoost (if needed)\n",
        "!pip install xgboost\n"
      ],
      "metadata": {
        "colab": {
          "base_uri": "https://localhost:8080/"
        },
        "id": "7Bz5QHZobw6k",
        "outputId": "0ac0dad7-baa5-4ef6-e837-47eab181af86"
      },
      "execution_count": 56,
      "outputs": [
        {
          "output_type": "stream",
          "name": "stdout",
          "text": [
            "Requirement already satisfied: xgboost in /usr/local/lib/python3.11/dist-packages (2.1.4)\n",
            "Requirement already satisfied: numpy in /usr/local/lib/python3.11/dist-packages (from xgboost) (1.26.4)\n",
            "Requirement already satisfied: nvidia-nccl-cu12 in /usr/local/lib/python3.11/dist-packages (from xgboost) (2.21.5)\n",
            "Requirement already satisfied: scipy in /usr/local/lib/python3.11/dist-packages (from xgboost) (1.14.1)\n"
          ]
        }
      ]
    },
    {
      "cell_type": "code",
      "source": [
        "from xgboost import XGBRegressor\n",
        "from sklearn.metrics import mean_absolute_error, mean_squared_error, r2_score\n",
        "\n",
        "# Initialize XGBoost model\n",
        "xgb_model = XGBRegressor(n_estimators=100, learning_rate=0.1, random_state=42)\n",
        "\n",
        "# Train the model\n",
        "xgb_model.fit(X_train, y_train)\n",
        "\n",
        "# Make predictions on the test set\n",
        "y_pred_xgb = xgb_model.predict(X_test)\n",
        "\n",
        "# Evaluate the model\n",
        "mae_xgb = mean_absolute_error(y_test, y_pred_xgb)\n",
        "mse_xgb = mean_squared_error(y_test, y_pred_xgb)\n",
        "r2_xgb = r2_score(y_test, y_pred_xgb)\n",
        "\n",
        "print(f\"XGBoost Model Training Complete!\")\n",
        "print(f\"MAE: {mae_xgb:.4f} | MSE: {mse_xgb:.4f} | R² Score: {r2_xgb:.4f}\")\n"
      ],
      "metadata": {
        "colab": {
          "base_uri": "https://localhost:8080/"
        },
        "id": "LJJuIj0FcKB9",
        "outputId": "2854a77a-f876-4a9d-9a4c-16f334a3fe98"
      },
      "execution_count": 57,
      "outputs": [
        {
          "output_type": "stream",
          "name": "stdout",
          "text": [
            "XGBoost Model Training Complete!\n",
            "MAE: 0.1412 | MSE: 0.0277 | R² Score: 0.9731\n"
          ]
        }
      ]
    },
    {
      "cell_type": "markdown",
      "source": [
        "XGBoost Seems better"
      ],
      "metadata": {
        "id": "vWMAbqi1uFCS"
      }
    },
    {
      "cell_type": "markdown",
      "source": [
        "feature importance for random forest"
      ],
      "metadata": {
        "id": "AL1bI7wFdWad"
      }
    },
    {
      "cell_type": "code",
      "source": [
        "import matplotlib.pyplot as plt\n",
        "import seaborn as sns\n",
        "\n",
        "# Get feature importance from Random Forest\n",
        "rf_importance = rf_model.feature_importances_\n",
        "\n",
        "# Create DataFrame for visualization\n",
        "rf_feature_importance = pd.DataFrame({\n",
        "    'Feature': X_train.columns,\n",
        "    'Importance': rf_importance\n",
        "}).sort_values(by='Importance', ascending=False)\n",
        "\n",
        "# Plot feature importance\n",
        "plt.figure(figsize=(10,6))\n",
        "sns.barplot(x=rf_feature_importance['Importance'], y=rf_feature_importance['Feature'], palette=\"viridis\")\n",
        "plt.title(\"Random Forest Feature Importance\")\n",
        "plt.xlabel(\"Importance Score\")\n",
        "plt.ylabel(\"Features\")\n",
        "plt.show()\n"
      ],
      "metadata": {
        "colab": {
          "base_uri": "https://localhost:8080/",
          "height": 671
        },
        "id": "um4BEoefcNIV",
        "outputId": "c78cd3a7-8273-45eb-f6b9-ab35c9695b74"
      },
      "execution_count": 58,
      "outputs": [
        {
          "output_type": "stream",
          "name": "stderr",
          "text": [
            "<ipython-input-58-95228393e89b>:15: FutureWarning: \n",
            "\n",
            "Passing `palette` without assigning `hue` is deprecated and will be removed in v0.14.0. Assign the `y` variable to `hue` and set `legend=False` for the same effect.\n",
            "\n",
            "  sns.barplot(x=rf_feature_importance['Importance'], y=rf_feature_importance['Feature'], palette=\"viridis\")\n"
          ]
        },
        {
          "output_type": "display_data",
          "data": {
            "text/plain": [
              "<Figure size 1000x600 with 1 Axes>"
            ],
            "image/png": "[encoded data removed]"
          },
          "metadata": {}
        }
      ]
    },
    {
      "cell_type": "markdown",
      "source": [
        "xg boost feature importance"
      ],
      "metadata": {
        "id": "X7kO4974dfWf"
      }
    },
    {
      "cell_type": "code",
      "source": [
        "# Get feature importance from XGBoost\n",
        "xgb_importance = xgb_model.feature_importances_\n",
        "\n",
        "# Create DataFrame for visualization\n",
        "xgb_feature_importance = pd.DataFrame({\n",
        "    'Feature': X_train.columns,\n",
        "    'Importance': xgb_importance\n",
        "}).sort_values(by='Importance', ascending=False)\n",
        "\n",
        "# Plot feature importance\n",
        "plt.figure(figsize=(10,6))\n",
        "sns.barplot(x=xgb_feature_importance['Importance'], y=xgb_feature_importance['Feature'], palette=\"plasma\")\n",
        "plt.title(\"XGBoost Feature Importance\")\n",
        "plt.xlabel(\"Importance Score\")\n",
        "plt.ylabel(\"Features\")\n",
        "plt.show()\n"
      ],
      "metadata": {
        "colab": {
          "base_uri": "https://localhost:8080/",
          "height": 671
        },
        "id": "2ropLFUUdZBg",
        "outputId": "491e8649-ea9c-4f89-9c6a-22e02b5c9efd"
      },
      "execution_count": 59,
      "outputs": [
        {
          "output_type": "stream",
          "name": "stderr",
          "text": [
            "<ipython-input-59-1fb34573e0e8>:12: FutureWarning: \n",
            "\n",
            "Passing `palette` without assigning `hue` is deprecated and will be removed in v0.14.0. Assign the `y` variable to `hue` and set `legend=False` for the same effect.\n",
            "\n",
            "  sns.barplot(x=xgb_feature_importance['Importance'], y=xgb_feature_importance['Feature'], palette=\"plasma\")\n"
          ]
        },
        {
          "output_type": "display_data",
          "data": {
            "text/plain": [
              "<Figure size 1000x600 with 1 Axes>"
            ],
            "image/png": "[encoded data removed]"
          },
          "metadata": {}
        }
      ]
    },
    {
      "cell_type": "markdown",
      "source": [
        "RF grid search"
      ],
      "metadata": {
        "id": "Oh7ggSo0fv2D"
      }
    },
    {
      "cell_type": "code",
      "source": [
        "from sklearn.ensemble import RandomForestRegressor\n",
        "from sklearn.model_selection import GridSearchCV\n",
        "\n",
        "# Define hyperparameter grid\n",
        "rf_param_grid = {\n",
        "    'n_estimators': [100, 200, 300],  # Number of trees\n",
        "    'max_depth': [None, 10, 20],  # Tree depth\n",
        "    'min_samples_split': [2, 5, 10],  # Minimum samples to split\n",
        "    'min_samples_leaf': [1, 2, 4]  # Minimum samples per leaf\n",
        "}\n",
        "\n",
        "# Initialize model\n",
        "rf_model = RandomForestRegressor(random_state=42)\n",
        "\n",
        "# Grid Search with Cross-Validation\n",
        "rf_grid_search = GridSearchCV(rf_model, rf_param_grid, cv=3, scoring='r2', n_jobs=-1, verbose=2)\n",
        "rf_grid_search.fit(X_train, y_train)\n",
        "\n",
        "# Get best parameters\n",
        "best_rf_params = rf_grid_search.best_params_\n",
        "best_rf_model = rf_grid_search.best_estimator_\n",
        "\n",
        "print(\" Best Random Forest Parameters:\", best_rf_params)\n",
        "\n",
        "# Evaluate best model\n",
        "rf_best_pred = best_rf_model.predict(X_test)\n",
        "rf_best_r2 = r2_score(y_test, rf_best_pred)\n",
        "print(f\" Optimized Random Forest R² Score: {rf_best_r2:.4f}\")\n"
      ],
      "metadata": {
        "colab": {
          "base_uri": "https://localhost:8080/"
        },
        "id": "9LSIa3u9dhyv",
        "outputId": "544bf87e-a101-4cda-e5c9-44e9fb574abd"
      },
      "execution_count": null,
      "outputs": [
        {
          "output_type": "stream",
          "name": "stdout",
          "text": [
            "Fitting 3 folds for each of 81 candidates, totalling 243 fits\n",
            "✅ Best Random Forest Parameters: {'max_depth': None, 'min_samples_leaf': 2, 'min_samples_split': 2, 'n_estimators': 300}\n",
            "✅ Optimized Random Forest R² Score: 0.9650\n"
          ]
        }
      ]
    },
    {
      "cell_type": "markdown",
      "source": [
        "XG grid search"
      ],
      "metadata": {
        "id": "SzOh2KiWf3t9"
      }
    },
    {
      "cell_type": "code",
      "source": [
        "from xgboost import XGBRegressor\n",
        "\n",
        "# Define hyperparameter grid\n",
        "xgb_param_grid = {\n",
        "    'n_estimators': [100, 200, 300],  # Number of boosting rounds\n",
        "    'learning_rate': [0.01, 0.1, 0.2],  # Step size for weight updates\n",
        "    'max_depth': [3, 6, 10],  # Tree depth\n",
        "    'subsample': [0.7, 0.9, 1.0],  # Fraction of samples per boosting round\n",
        "    'colsample_bytree': [0.7, 0.9, 1.0]  # Fraction of features per tree\n",
        "}\n",
        "\n",
        "# Initialize model\n",
        "xgb_model = XGBRegressor(random_state=42)\n",
        "\n",
        "# Grid Search with Cross-Validation\n",
        "xgb_grid_search = GridSearchCV(xgb_model, xgb_param_grid, cv=3, scoring='r2', n_jobs=-1, verbose=2)\n",
        "xgb_grid_search.fit(X_train, y_train)\n",
        "\n",
        "# Get best parameters\n",
        "best_xgb_params = xgb_grid_search.best_params_\n",
        "best_xgb_model = xgb_grid_search.best_estimator_\n",
        "\n",
        "print(\" Best XGBoost Parameters:\", best_xgb_params)\n",
        "\n",
        "# Evaluate best model\n",
        "xgb_best_pred = best_xgb_model.predict(X_test)\n",
        "xgb_best_r2 = r2_score(y_test, xgb_best_pred)\n",
        "print(f\" Optimized XGBoost R² Score: {xgb_best_r2:.4f}\")\n"
      ],
      "metadata": {
        "colab": {
          "base_uri": "https://localhost:8080/"
        },
        "id": "xYz8jIRsfxiz",
        "outputId": "51182dca-f772-44a0-94fa-fd9e2415f6ea"
      },
      "execution_count": null,
      "outputs": [
        {
          "output_type": "stream",
          "name": "stdout",
          "text": [
            "Fitting 3 folds for each of 243 candidates, totalling 729 fits\n",
            "✅ Best XGBoost Parameters: {'colsample_bytree': 0.7, 'learning_rate': 0.1, 'max_depth': 3, 'n_estimators': 300, 'subsample': 0.9}\n",
            "✅ Optimized XGBoost R² Score: 0.9750\n"
          ]
        }
      ]
    },
    {
      "cell_type": "markdown",
      "source": [
        "XG better"
      ],
      "metadata": {
        "id": "dEx9Q2CapvgQ"
      }
    },
    {
      "cell_type": "code",
      "source": [
        "# Install SHAP if not installed\n",
        "!pip install shap\n"
      ],
      "metadata": {
        "colab": {
          "base_uri": "https://localhost:8080/"
        },
        "id": "9_fwvLgZpwft",
        "outputId": "0a067b21-f877-4371-fbf8-9595f49d848a"
      },
      "execution_count": 60,
      "outputs": [
        {
          "output_type": "stream",
          "name": "stdout",
          "text": [
            "Requirement already satisfied: shap in /usr/local/lib/python3.11/dist-packages (0.46.0)\n",
            "Requirement already satisfied: numpy in /usr/local/lib/python3.11/dist-packages (from shap) (1.26.4)\n",
            "Requirement already satisfied: scipy in /usr/local/lib/python3.11/dist-packages (from shap) (1.14.1)\n",
            "Requirement already satisfied: scikit-learn in /usr/local/lib/python3.11/dist-packages (from shap) (1.6.1)\n",
            "Requirement already satisfied: pandas in /usr/local/lib/python3.11/dist-packages (from shap) (2.2.2)\n",
            "Requirement already satisfied: tqdm>=4.27.0 in /usr/local/lib/python3.11/dist-packages (from shap) (4.67.1)\n",
            "Requirement already satisfied: packaging>20.9 in /usr/local/lib/python3.11/dist-packages (from shap) (24.2)\n",
            "Requirement already satisfied: slicer==0.0.8 in /usr/local/lib/python3.11/dist-packages (from shap) (0.0.8)\n",
            "Requirement already satisfied: numba in /usr/local/lib/python3.11/dist-packages (from shap) (0.60.0)\n",
            "Requirement already satisfied: cloudpickle in /usr/local/lib/python3.11/dist-packages (from shap) (3.1.1)\n",
            "Requirement already satisfied: llvmlite<0.44,>=0.43.0dev0 in /usr/local/lib/python3.11/dist-packages (from numba->shap) (0.43.0)\n",
            "Requirement already satisfied: python-dateutil>=2.8.2 in /usr/local/lib/python3.11/dist-packages (from pandas->shap) (2.8.2)\n",
            "Requirement already satisfied: pytz>=2020.1 in /usr/local/lib/python3.11/dist-packages (from pandas->shap) (2025.1)\n",
            "Requirement already satisfied: tzdata>=2022.7 in /usr/local/lib/python3.11/dist-packages (from pandas->shap) (2025.1)\n",
            "Requirement already satisfied: joblib>=1.2.0 in /usr/local/lib/python3.11/dist-packages (from scikit-learn->shap) (1.4.2)\n",
            "Requirement already satisfied: threadpoolctl>=3.1.0 in /usr/local/lib/python3.11/dist-packages (from scikit-learn->shap) (3.5.0)\n",
            "Requirement already satisfied: six>=1.5 in /usr/local/lib/python3.11/dist-packages (from python-dateutil>=2.8.2->pandas->shap) (1.17.0)\n"
          ]
        }
      ]
    },
    {
      "cell_type": "code",
      "source": [
        "# Check data types\n",
        "print(X_train.dtypes)\n"
      ],
      "metadata": {
        "colab": {
          "base_uri": "https://localhost:8080/"
        },
        "id": "PqD6ESdsp1GT",
        "outputId": "21c65e72-0b63-4621-9e29-25afbdc67b83"
      },
      "execution_count": 61,
      "outputs": [
        {
          "output_type": "stream",
          "name": "stdout",
          "text": [
            "blood_oxygen_level             float64\n",
            "sleep_duration                 float64\n",
            "rem_sleep_duration             float64\n",
            "deep_sleep_duration            float64\n",
            "exercise_duration              float64\n",
            "ecg_Normal                        bool\n",
            "alcohol_consumption_unknown       bool\n",
            "stress_level_Low                  bool\n",
            "exercise_intensity_Moderate       bool\n",
            "dtype: object\n"
          ]
        }
      ]
    },
    {
      "cell_type": "markdown",
      "source": [
        "Final Interpretation\n",
        "\n",
        "Oxygen levels & sleep are the biggest predictors of health.\n",
        "\n",
        "Exercise boosts health_score, but not as much as sleep or oxygen.\n",
        "\n",
        "Low stress positively impacts the prediction.\n",
        "\n",
        "Some sleep patterns (e.g., deep sleep imbalance) may lower the score."
      ],
      "metadata": {
        "id": "UkH86s-3uT2b"
      }
    },
    {
      "cell_type": "code",
      "source": [
        "print(\"Columns in Wearable Data:\")\n",
        "print(wearable_df.columns.tolist())\n"
      ],
      "metadata": {
        "colab": {
          "base_uri": "https://localhost:8080/"
        },
        "id": "TaToG3EC6JLk",
        "outputId": "44ceec9d-ae20-471e-9ab8-fb3caf06c8c7"
      },
      "execution_count": 64,
      "outputs": [
        {
          "output_type": "stream",
          "name": "stdout",
          "text": [
            "Columns in Wearable Data:\n",
            "['steps', 'calories_burned', 'distance_covered', 'exercise_duration', 'ambient_temperature', 'battery_level', 'altitude', 'uv_exposure', 'notifications_received', 'screen_time', 'age', 'weight', 'height', 'sleep_duration', 'deep_sleep_duration', 'rem_sleep_duration', 'wakeups', 'heart_rate', 'blood_oxygen_level', 'calories_intake', 'water_intake', 'skin_temperature', 'body_fat_percentage', 'muscle_mass', 'health_score', 'activity_ratio', 'sleep_efficiency', 'heart_rate_variability', 'exercise_type_Running', 'exercise_type_Strength Training', 'exercise_type_Yoga', 'mood_Anxious', 'mood_Happy', 'mood_Neutral', 'mood_Sad', 'stress_level_High', 'stress_level_Low', 'stress_level_Moderate', 'exercise_intensity_Low', 'exercise_intensity_Moderate', 'exercise_intensity_unknown', 'gender_Male', 'gender_Other', 'medical_conditions_Hypertension', 'medical_conditions_unknown', 'medication_Yes', 'smoker_Yes', 'alcohol_consumption_Moderate', 'alcohol_consumption_unknown', 'day_of_week_Monday', 'day_of_week_Saturday', 'day_of_week_Sunday', 'day_of_week_Thursday', 'day_of_week_Tuesday', 'day_of_week_Wednesday', 'snoring_Yes', 'ecg_Normal']\n"
          ]
        }
      ]
    },
    {
      "cell_type": "code",
      "source": [
        "import joblib\n",
        "\n",
        "# Extract feature column names from the dataset\n",
        "feature_columns = wearable_df.drop(columns=[\"health_score\"], errors=\"ignore\").columns.tolist()\n",
        "\n",
        "# Save feature list\n",
        "joblib.dump(feature_columns, \"feature_columns.pkl\")\n",
        "\n",
        "print(\" Feature columns saved successfully!\")\n"
      ],
      "metadata": {
        "colab": {
          "base_uri": "https://localhost:8080/"
        },
        "id": "edJjYEi96KTU",
        "outputId": "09ecc038-7a4d-470c-b7c8-9db6cb74ad08"
      },
      "execution_count": 65,
      "outputs": [
        {
          "output_type": "stream",
          "name": "stdout",
          "text": [
            "✅ Feature columns saved successfully!\n"
          ]
        }
      ]
    },
    {
      "cell_type": "code",
      "source": [
        "import pandas as pd\n",
        "import joblib\n",
        "\n",
        "# Load dataset (ensure it's the latest cleaned version)\n",
        "#wearable_df = pd.read_csv(\"wearable_cleaned.csv\")  # Update with actual file path\n",
        "\n",
        "# List of features to remove\n",
        "features_to_remove = [\n",
        "    'ambient_temperature', 'battery_level', 'altitude', 'uv_exposure',\n",
        "    'notifications_received', 'screen_time',\n",
        "    'day_of_week_Monday', 'day_of_week_Saturday', 'day_of_week_Sunday',\n",
        "    'day_of_week_Thursday', 'day_of_week_Tuesday', 'day_of_week_Wednesday'\n",
        "]\n",
        "\n",
        "# Remove features from dataset\n",
        "wearable_df = wearable_df.drop(columns=features_to_remove, errors=\"ignore\")\n",
        "\n",
        "# Save updated feature list\n",
        "feature_columns = wearable_df.drop(columns=[\"health_score\"], errors=\"ignore\").columns.tolist()\n",
        "joblib.dump(feature_columns, \"feature_columns.pkl\")\n",
        "\n",
        "print(f\" Removed {len(features_to_remove)} features. Updated feature list saved as `feature_columns.pkl`.\")\n"
      ],
      "metadata": {
        "colab": {
          "base_uri": "https://localhost:8080/"
        },
        "id": "dtxJwWz3BoVM",
        "outputId": "346de471-e021-455e-9282-7a2c657452e9"
      },
      "execution_count": 66,
      "outputs": [
        {
          "output_type": "stream",
          "name": "stdout",
          "text": [
            " Removed 12 features. Updated feature list saved as `feature_columns.pkl`.\n"
          ]
        }
      ]
    },
    {
      "cell_type": "code",
      "source": [
        "from sklearn.model_selection import train_test_split\n",
        "\n",
        "# Define target variable\n",
        "target = \"health_score\"\n",
        "\n",
        "# Split into features (X) and target (y)\n",
        "X = wearable_df.drop(columns=[target])\n",
        "y = wearable_df[target]\n",
        "\n",
        "# Train-test split (80-20)\n",
        "X_train, X_test, y_train, y_test = train_test_split(X, y, test_size=0.2, random_state=42)\n",
        "\n",
        "print(\" Data split into training and testing sets.\")\n"
      ],
      "metadata": {
        "colab": {
          "base_uri": "https://localhost:8080/"
        },
        "id": "o9iNgHiPBppz",
        "outputId": "c07d7cbd-2147-4530-807f-9fbd9721f517"
      },
      "execution_count": 67,
      "outputs": [
        {
          "output_type": "stream",
          "name": "stdout",
          "text": [
            "✅ Data split into training and testing sets.\n"
          ]
        }
      ]
    },
    {
      "cell_type": "code",
      "source": [
        "import xgboost as xgb\n",
        "from sklearn.metrics import mean_absolute_error, mean_squared_error, r2_score\n",
        "\n",
        "# Define the best hyperparameters found earlier\n",
        "best_params = {\n",
        "    'colsample_bytree': 0.7,\n",
        "    'learning_rate': 0.1,\n",
        "    'max_depth': 3,\n",
        "    'n_estimators': 300,\n",
        "    'subsample': 0.9\n",
        "}\n",
        "\n",
        "# Train the XGBoost model\n",
        "model = xgb.XGBRegressor(**best_params, random_state=42)\n",
        "model.fit(X_train, y_train)\n",
        "\n",
        "# Make predictions\n",
        "y_pred = model.predict(X_test)\n",
        "\n",
        "# Evaluate the model\n",
        "mae = mean_absolute_error(y_test, y_pred)\n",
        "mse = mean_squared_error(y_test, y_pred)\n",
        "r2 = r2_score(y_test, y_pred)\n",
        "\n",
        "print(f\"Model Training Complete! \\nMAE: {mae:.4f} | MSE: {mse:.4f} | R² Score: {r2:.4f}\")\n"
      ],
      "metadata": {
        "colab": {
          "base_uri": "https://localhost:8080/"
        },
        "id": "W5ZJXNE_CBl0",
        "outputId": "08e96682-0a51-4a94-d492-176ae2d4a492"
      },
      "execution_count": 68,
      "outputs": [
        {
          "output_type": "stream",
          "name": "stdout",
          "text": [
            "Model Training Complete! \n",
            "MAE: 0.0302 | MSE: 0.0015 | R² Score: 0.9986\n"
          ]
        }
      ]
    },
    {
      "cell_type": "code",
      "source": [
        "# Check model's expected features\n",
        "print(\" Model was trained on these features:\")\n",
        "print(model.feature_names_in_)"
      ],
      "metadata": {
        "colab": {
          "base_uri": "https://localhost:8080/"
        },
        "id": "K6RCVs50w_xv",
        "outputId": "df481acc-48f7-4234-f745-d9e83f86f327"
      },
      "execution_count": 69,
      "outputs": [
        {
          "output_type": "stream",
          "name": "stdout",
          "text": [
            " Model was trained on these features:\n",
            "['steps' 'calories_burned' 'distance_covered' 'exercise_duration' 'age'\n",
            " 'weight' 'height' 'sleep_duration' 'deep_sleep_duration'\n",
            " 'rem_sleep_duration' 'wakeups' 'heart_rate' 'blood_oxygen_level'\n",
            " 'calories_intake' 'water_intake' 'skin_temperature' 'body_fat_percentage'\n",
            " 'muscle_mass' 'activity_ratio' 'sleep_efficiency'\n",
            " 'heart_rate_variability' 'exercise_type_Running'\n",
            " 'exercise_type_Strength Training' 'exercise_type_Yoga' 'mood_Anxious'\n",
            " 'mood_Happy' 'mood_Neutral' 'mood_Sad' 'stress_level_High'\n",
            " 'stress_level_Low' 'stress_level_Moderate' 'exercise_intensity_Low'\n",
            " 'exercise_intensity_Moderate' 'exercise_intensity_unknown' 'gender_Male'\n",
            " 'gender_Other' 'medical_conditions_Hypertension'\n",
            " 'medical_conditions_unknown' 'medication_Yes' 'smoker_Yes'\n",
            " 'alcohol_consumption_Moderate' 'alcohol_consumption_unknown'\n",
            " 'snoring_Yes' 'ecg_Normal']\n"
          ]
        }
      ]
    },
    {
      "cell_type": "code",
      "source": [
        "import joblib\n",
        "\n",
        "# Save the trained model\n",
        "joblib.dump(model, \"health_score_xgboost.pkl\")\n",
        "\n",
        "# Save the feature list (after preprocessing)\n",
        "feature_columns = X_train.columns.tolist()\n",
        "joblib.dump(feature_columns, \"feature_columns.pkl\")\n",
        "\n",
        "print(\" Model and feature list saved successfully!\")\n"
      ],
      "metadata": {
        "id": "FBm2A06Nzxtu",
        "colab": {
          "base_uri": "https://localhost:8080/"
        },
        "outputId": "c9ad4629-d602-4fa3-9065-9c76ef207285"
      },
      "execution_count": 70,
      "outputs": [
        {
          "output_type": "stream",
          "name": "stdout",
          "text": [
            "✅ Model and feature list saved successfully!\n"
          ]
        }
      ]
    },
    {
      "cell_type": "markdown",
      "source": [
        "Closer look to feature selection"
      ],
      "metadata": {
        "id": "24QxB8IIyod1"
      }
    },
    {
      "cell_type": "code",
      "source": [
        "import pandas as pd\n",
        "import matplotlib.pyplot as plt\n",
        "\n",
        "# Get feature importance\n",
        "feature_importance = model.feature_importances_\n",
        "\n",
        "# Create a DataFrame\n",
        "importance_df = pd.DataFrame({'Feature': model.feature_names_in_, 'Importance': feature_importance})\n",
        "\n",
        "# Sort by importance\n",
        "importance_df = importance_df.sort_values(by='Importance', ascending=False)\n",
        "\n",
        "# Display top features\n",
        "print(importance_df.head(15))  # Show top 15 features\n",
        "\n",
        "# Plot feature importance\n",
        "plt.figure(figsize=(12, 6))\n",
        "plt.barh(importance_df['Feature'][:15], importance_df['Importance'][:15], color='blue')\n",
        "plt.gca().invert_yaxis()\n",
        "plt.xlabel('Feature Importance')\n",
        "plt.title('Top 15 Important Features in XGBoost Model')\n",
        "plt.show()\n"
      ],
      "metadata": {
        "id": "GQHgAYavbiQt",
        "colab": {
          "base_uri": "https://localhost:8080/",
          "height": 862
        },
        "outputId": "b0bf6f23-3c05-43c1-a222-1819074b9c81"
      },
      "execution_count": 71,
      "outputs": [
        {
          "output_type": "stream",
          "name": "stdout",
          "text": [
            "                         Feature  Importance\n",
            "12            blood_oxygen_level    0.459414\n",
            "7                 sleep_duration    0.160322\n",
            "43                    ecg_Normal    0.066155\n",
            "39                    smoker_Yes    0.054728\n",
            "33    exercise_intensity_unknown    0.048447\n",
            "3              exercise_duration    0.039743\n",
            "9             rem_sleep_duration    0.036261\n",
            "28             stress_level_High    0.034612\n",
            "41   alcohol_consumption_unknown    0.033458\n",
            "29              stress_level_Low    0.030209\n",
            "8            deep_sleep_duration    0.022476\n",
            "40  alcohol_consumption_Moderate    0.011787\n",
            "19              sleep_efficiency    0.000799\n",
            "31        exercise_intensity_Low    0.000210\n",
            "5                         weight    0.000095\n"
          ]
        },
        {
          "output_type": "display_data",
          "data": {
            "text/plain": [
              "<Figure size 1200x600 with 1 Axes>"
            ],
            "image/png": "[encoded data removed]"
          },
          "metadata": {}
        }
      ]
    },
    {
      "cell_type": "code",
      "source": [
        "\n",
        "threshold = 0.01\n",
        "\n",
        "\n",
        "selected_features = importance_df[importance_df['Importance'] > threshold]['Feature'].tolist()\n",
        "\n",
        "\n",
        "X_train_selected = X_train[selected_features]\n",
        "X_test_selected = X_test[selected_features]\n",
        "\n",
        "# Retrain the model\n",
        "model2 = xgb.XGBRegressor(**best_params, random_state=42)\n",
        "model2.fit(X_train_selected, y_train)\n",
        "\n",
        "# Predict and evaluate again\n",
        "y_pred = model2.predict(X_test_selected)\n",
        "mae = mean_absolute_error(y_test, y_pred)\n",
        "mse = mean_squared_error(y_test, y_pred)\n",
        "r2 = r2_score(y_test, y_pred)\n",
        "\n",
        "print(f\"Retrained Model: \\nMAE: {mae:.4f} | MSE: {mse:.4f} | R² Score: {r2:.4f}\")\n"
      ],
      "metadata": {
        "colab": {
          "base_uri": "https://localhost:8080/"
        },
        "id": "T8714Zlsy82r",
        "outputId": "ba9405b4-890c-48b6-a0b7-5b5678f875bd"
      },
      "execution_count": 72,
      "outputs": [
        {
          "output_type": "stream",
          "name": "stdout",
          "text": [
            "Retrained Model: \n",
            "MAE: 0.0271 | MSE: 0.0012 | R² Score: 0.9988\n"
          ]
        }
      ]
    },
    {
      "cell_type": "code",
      "source": [
        "# Check model's expected features\n",
        "print(\" Model was trained on these features:\")\n",
        "print(model2.feature_names_in_)"
      ],
      "metadata": {
        "colab": {
          "base_uri": "https://localhost:8080/"
        },
        "id": "bLetj54HzolM",
        "outputId": "ccdb1a0a-768b-440f-9a46-656edeecac3c"
      },
      "execution_count": 73,
      "outputs": [
        {
          "output_type": "stream",
          "name": "stdout",
          "text": [
            " Model was trained on these features:\n",
            "['blood_oxygen_level' 'sleep_duration' 'ecg_Normal' 'smoker_Yes'\n",
            " 'exercise_intensity_unknown' 'exercise_duration' 'rem_sleep_duration'\n",
            " 'stress_level_High' 'alcohol_consumption_unknown' 'stress_level_Low'\n",
            " 'deep_sleep_duration' 'alcohol_consumption_Moderate']\n"
          ]
        }
      ]
    },
    {
      "cell_type": "markdown",
      "source": [
        "Overfitting seems like a problem here"
      ],
      "metadata": {
        "id": "Bv0MbIhEz_RA"
      }
    },
    {
      "cell_type": "code",
      "source": [
        "!pip install --upgrade xgboost\n"
      ],
      "metadata": {
        "colab": {
          "base_uri": "https://localhost:8080/"
        },
        "id": "SGCA9j_Z0aqF",
        "outputId": "a2ef4d57-fabc-4a70-d39e-6db1df9e6712"
      },
      "execution_count": 76,
      "outputs": [
        {
          "output_type": "stream",
          "name": "stdout",
          "text": [
            "Requirement already satisfied: xgboost in /usr/local/lib/python3.11/dist-packages (2.1.4)\n",
            "Collecting xgboost\n",
            "  Downloading xgboost-3.0.0-py3-none-manylinux_2_28_x86_64.whl.metadata (2.1 kB)\n",
            "Requirement already satisfied: numpy in /usr/local/lib/python3.11/dist-packages (from xgboost) (1.26.4)\n",
            "Requirement already satisfied: nvidia-nccl-cu12 in /usr/local/lib/python3.11/dist-packages (from xgboost) (2.21.5)\n",
            "Requirement already satisfied: scipy in /usr/local/lib/python3.11/dist-packages (from xgboost) (1.14.1)\n",
            "Downloading xgboost-3.0.0-py3-none-manylinux_2_28_x86_64.whl (253.9 MB)\n",
            "\u001b[2K   \u001b[90m━━━━━━━━━━━━━━━━━━━━━━━━━━━━━━━━━━━━━━━━\u001b[0m \u001b[32m253.9/253.9 MB\u001b[0m \u001b[31m4.6 MB/s\u001b[0m eta \u001b[36m0:00:00\u001b[0m\n",
            "\u001b[?25hInstalling collected packages: xgboost\n",
            "  Attempting uninstall: xgboost\n",
            "    Found existing installation: xgboost 2.1.4\n",
            "    Uninstalling xgboost-2.1.4:\n",
            "      Successfully uninstalled xgboost-2.1.4\n",
            "Successfully installed xgboost-3.0.0\n"
          ]
        }
      ]
    },
    {
      "cell_type": "code",
      "source": [
        "import xgboost\n",
        "print(xgboost.__version__)\n",
        "\n"
      ],
      "metadata": {
        "colab": {
          "base_uri": "https://localhost:8080/"
        },
        "id": "u90shl7Yzp0m",
        "outputId": "5024d382-f42b-4b33-814d-0b453a0e8d86"
      },
      "execution_count": 78,
      "outputs": [
        {
          "output_type": "stream",
          "name": "stdout",
          "text": [
            "2.1.4\n"
          ]
        }
      ]
    },
    {
      "cell_type": "markdown",
      "source": [
        "running a 5 fold CV"
      ],
      "metadata": {
        "id": "9w7waLq53DJg"
      }
    },
    {
      "cell_type": "code",
      "source": [
        "from sklearn.model_selection import cross_val_score\n",
        "import numpy as np\n",
        "import xgboost as xgb\n",
        "\n",
        "# Initialize model with optimized parameters\n",
        "model3 = xgb.XGBRegressor(**best_params, random_state=42)\n",
        "\n",
        "# Perform 5-fold cross-validation\n",
        "cv_scores = cross_val_score(model3, X_train_selected, y_train, cv=5, scoring='neg_mean_squared_error')\n",
        "\n",
        "# Convert negative MSE to positive\n",
        "cv_mse = -cv_scores\n",
        "\n",
        "# Print cross-validation results\n",
        "print(f\"Cross-Validation Results:\")\n",
        "print(f\"Mean MSE: {np.mean(cv_mse):.4f}\")\n",
        "print(f\"Standard Deviation of MSE: {np.std(cv_mse):.4f}\")\n"
      ],
      "metadata": {
        "colab": {
          "base_uri": "https://localhost:8080/"
        },
        "id": "mEkkeX1t1eND",
        "outputId": "11a032b0-2350-48b6-8ae4-f623c475df78"
      },
      "execution_count": 87,
      "outputs": [
        {
          "output_type": "stream",
          "name": "stdout",
          "text": [
            "Cross-Validation Results:\n",
            "Mean MSE: 0.0112\n",
            "Standard Deviation of MSE: 0.0009\n"
          ]
        }
      ]
    },
    {
      "cell_type": "code",
      "source": [
        "# Train final model on full dataset\n",
        "model3.fit(X_train_selected, y_train)\n",
        "\n",
        "# Make predictions on test set\n",
        "y_pred = model3.predict(X_test_selected)\n",
        "\n",
        "# Evaluate model performance\n",
        "mae = mean_absolute_error(y_test, y_pred)\n",
        "mse = mean_squared_error(y_test, y_pred)\n",
        "r2 = r2_score(y_test, y_pred)\n",
        "\n",
        "# Print evaluation metrics\n",
        "print(f\"Final Model Evaluation: \\nMAE: {mae:.4f} | MSE: {mse:.4f} | R² Score: {r2:.4f}\")\n"
      ],
      "metadata": {
        "colab": {
          "base_uri": "https://localhost:8080/"
        },
        "id": "o8y8zh2H1sw3",
        "outputId": "843d8b57-5875-42b2-e78f-51573de801dc"
      },
      "execution_count": 88,
      "outputs": [
        {
          "output_type": "stream",
          "name": "stdout",
          "text": [
            "Final Model Evaluation: \n",
            "MAE: 0.0859 | MSE: 0.0116 | R² Score: 0.9888\n"
          ]
        }
      ]
    },
    {
      "cell_type": "markdown",
      "source": [
        "MSE: 0.0116 is close to Cross-Validation MSE: 0.0112.No significant overfitting"
      ],
      "metadata": {
        "id": "fV3eFlpa63XT"
      }
    },
    {
      "cell_type": "code",
      "source": [
        "# Check model's expected features\n",
        "print(\" Model was trained on these features:\")\n",
        "print(model3.feature_names_in_)"
      ],
      "metadata": {
        "colab": {
          "base_uri": "https://localhost:8080/"
        },
        "id": "N1s7Voix3cCf",
        "outputId": "f8b7224d-07e6-48b2-c162-76150a569c93"
      },
      "execution_count": 89,
      "outputs": [
        {
          "output_type": "stream",
          "name": "stdout",
          "text": [
            " Model was trained on these features:\n",
            "['blood_oxygen_level' 'sleep_duration' 'ecg_Normal' 'smoker_Yes'\n",
            " 'exercise_intensity_unknown' 'exercise_duration' 'rem_sleep_duration'\n",
            " 'stress_level_High' 'alcohol_consumption_unknown' 'stress_level_Low'\n",
            " 'deep_sleep_duration' 'alcohol_consumption_Moderate']\n"
          ]
        }
      ]
    },
    {
      "cell_type": "code",
      "source": [
        "import joblib\n",
        "\n",
        "# Save the trained model\n",
        "joblib.dump(model3, \"health_score_xgboost3.pkl\")\n",
        "\n",
        "# Save the feature list (after preprocessing)\n",
        "feature_columns = X_train.columns.tolist()\n",
        "joblib.dump(feature_columns, \"feature_columns.pkl\")\n",
        "\n",
        "print(\" Model and feature list saved successfully!\")\n"
      ],
      "metadata": {
        "colab": {
          "base_uri": "https://localhost:8080/"
        },
        "id": "V4kTg3xY3hdx",
        "outputId": "ecb8fcac-0d9a-4066-c5f8-21ffe752e45a"
      },
      "execution_count": 92,
      "outputs": [
        {
          "output_type": "stream",
          "name": "stdout",
          "text": [
            " Model and feature list saved successfully!\n"
          ]
        }
      ]
    }
  ]
}